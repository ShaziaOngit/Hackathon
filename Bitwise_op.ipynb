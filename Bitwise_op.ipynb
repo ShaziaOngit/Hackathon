{
  "nbformat": 4,
  "nbformat_minor": 0,
  "metadata": {
    "colab": {
      "provenance": [],
      "authorship_tag": "ABX9TyNN/DW5qDbUUhgD4P6trtYg",
      "include_colab_link": true
    },
    "kernelspec": {
      "name": "python3",
      "display_name": "Python 3"
    },
    "language_info": {
      "name": "python"
    }
  },
  "cells": [
    {
      "cell_type": "markdown",
      "metadata": {
        "id": "view-in-github",
        "colab_type": "text"
      },
      "source": [
        "<a href=\"https://colab.research.google.com/github/ShaziaOngit/Hackathon/blob/main/Bitwise_op.ipynb\" target=\"_parent\"><img src=\"https://colab.research.google.com/assets/colab-badge.svg\" alt=\"Open In Colab\"/></a>"
      ]
    },
    {
      "cell_type": "code",
      "source": [
        "a=9\n",
        "b=12\n",
        "\n",
        "#print(bin(a))\n",
        "#print(bin(b))"
      ],
      "metadata": {
        "colab": {
          "base_uri": "https://localhost:8080/"
        },
        "id": "OSSS8OXlp86h",
        "outputId": "b18544b1-b8ca-4102-819b-704d5e083b98"
      },
      "execution_count": null,
      "outputs": [
        {
          "output_type": "stream",
          "name": "stdout",
          "text": [
            "0b1001\n",
            "0b1100\n"
          ]
        }
      ]
    },
    {
      "cell_type": "code",
      "source": [
        "#& operator\n",
        "# print(bin(a&b), f\"={a&b}\")"
      ],
      "metadata": {
        "colab": {
          "base_uri": "https://localhost:8080/"
        },
        "id": "LLSXuKwWq6lY",
        "outputId": "3830c687-84c2-4ab3-a17e-0be5dd94de0a"
      },
      "execution_count": null,
      "outputs": [
        {
          "output_type": "stream",
          "name": "stdout",
          "text": [
            "0b1000 =8\n"
          ]
        }
      ]
    },
    {
      "cell_type": "code",
      "source": [
        "# | operator\n",
        "# print(bin(a|b), f\"={a|b}\")"
      ],
      "metadata": {
        "colab": {
          "base_uri": "https://localhost:8080/"
        },
        "id": "i1JfUD0Vrpo_",
        "outputId": "3e627c81-10a8-4f60-a1fb-4efb3d10b51b"
      },
      "execution_count": null,
      "outputs": [
        {
          "output_type": "stream",
          "name": "stdout",
          "text": [
            "0b1101 =13\n"
          ]
        }
      ]
    },
    {
      "cell_type": "code",
      "source": [
        "# ^ operator\n",
        "print(bin(a^b), f\"={a^b}\")"
      ],
      "metadata": {
        "colab": {
          "base_uri": "https://localhost:8080/"
        },
        "id": "FeeJMDjUsOdi",
        "outputId": "0024f39f-2b75-4e98-fdf5-8039679d4294"
      },
      "execution_count": null,
      "outputs": [
        {
          "output_type": "stream",
          "name": "stdout",
          "text": [
            "0b101 =5\n"
          ]
        }
      ]
    }
  ]
}