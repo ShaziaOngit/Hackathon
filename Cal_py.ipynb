{
  "nbformat": 4,
  "nbformat_minor": 0,
  "metadata": {
    "colab": {
      "provenance": [],
      "authorship_tag": "ABX9TyPbaTCXoLbwWhI77VecIPfR",
      "include_colab_link": true
    },
    "kernelspec": {
      "name": "python3",
      "display_name": "Python 3"
    },
    "language_info": {
      "name": "python"
    }
  },
  "cells": [
    {
      "cell_type": "markdown",
      "metadata": {
        "id": "view-in-github",
        "colab_type": "text"
      },
      "source": [
        "<a href=\"https://colab.research.google.com/github/ShaziaOngit/Hackathon/blob/main/Cal_py.ipynb\" target=\"_parent\"><img src=\"https://colab.research.google.com/assets/colab-badge.svg\" alt=\"Open In Colab\"/></a>"
      ]
    },
    {
      "cell_type": "code",
      "source": [
        "\n",
        "import calendar\n",
        "import sys\n",
        "\n",
        "def display_calendar(year, month):\n",
        "    \"\"\"Display a calendar for the given month and year.\"\"\"\n",
        "    cal = calendar.monthcalendar(year, month)\n",
        "    month_name = calendar.month_name[month]\n",
        "\n",
        "    print(f\"{month_name} {year}\".center(20))\n",
        "    print(\"Mo Tu We Th Fr Sa Su\")\n",
        "\n",
        "    for week in cal:\n",
        "        week_str = \"\"\n",
        "        for day in week:\n",
        "            if day == 0:\n",
        "                week_str += \"   \"  # Empty space for days not in the month\n",
        "            else:\n",
        "                week_str += f\"{day:2} \"\n",
        "        print(week_str)\n",
        "\n",
        "def main():\n",
        "    # Get current year and month if no arguments provided\n",
        "    import datetime\n",
        "    today = datetime.date.today()\n",
        "    year = today.year\n",
        "    month = today.month\n",
        "\n",
        "    # Parse command line arguments if provided\n",
        "    # Check if arguments are provided and are numeric\n",
        "    if len(sys.argv) > 1 and all(arg.isdigit() for arg in sys.argv[1:]):  # Check if arguments are numeric\n",
        "        try:\n",
        "            if len(sys.argv) == 2:\n",
        "                # Only year provided\n",
        "                year = int(sys.argv[1])\n",
        "            elif len(sys.argv) == 3:\n",
        "                # Month and year provided\n",
        "                month = int(sys.argv[1])\n",
        "                year = int(sys.argv[2])\n",
        "\n",
        "                # Handle month numbers > 12\n",
        "                if month > 12:\n",
        "                    year += month // 12\n",
        "                    month = month % 12\n",
        "                    if month == 0:\n",
        "                        month = 12\n",
        "        except ValueError:\n",
        "            print(\"Error: Please provide numeric values for month and year\")\n",
        "            # return instead of sys.exit(1) to avoid SystemExit in Jupyter Notebook\n",
        "            return\n",
        "\n",
        "    # Validate month and year\n",
        "    if month < 1 or month > 12:\n",
        "        print(\"Error: Month must be between 1 and 12\")\n",
        "        # return instead of sys.exit(1) to avoid SystemExit in Jupyter Notebook\n",
        "        return\n",
        "\n",
        "    display_calendar(year, month)\n",
        "\n",
        "if __name__ == \"__main__\":\n",
        "    main()"
      ],
      "metadata": {
        "colab": {
          "base_uri": "https://localhost:8080/"
        },
        "id": "37LrBzFGcAmv",
        "outputId": "34450e16-c31c-4916-a1ac-e1579bcfb75d"
      },
      "execution_count": null,
      "outputs": [
        {
          "output_type": "stream",
          "name": "stdout",
          "text": [
            "     April 2025     \n",
            "Mo Tu We Th Fr Sa Su\n",
            "    1  2  3  4  5  6 \n",
            " 7  8  9 10 11 12 13 \n",
            "14 15 16 17 18 19 20 \n",
            "21 22 23 24 25 26 27 \n",
            "28 29 30             \n"
          ]
        }
      ]
    }
  ]
}