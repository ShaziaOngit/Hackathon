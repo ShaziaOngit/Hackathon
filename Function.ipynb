{
  "nbformat": 4,
  "nbformat_minor": 0,
  "metadata": {
    "colab": {
      "provenance": [],
      "authorship_tag": "ABX9TyMx9wffVZ2TGb5Z97+QtaQJ",
      "include_colab_link": true
    },
    "kernelspec": {
      "name": "python3",
      "display_name": "Python 3"
    },
    "language_info": {
      "name": "python"
    }
  },
  "cells": [
    {
      "cell_type": "markdown",
      "metadata": {
        "id": "view-in-github",
        "colab_type": "text"
      },
      "source": [
        "<a href=\"https://colab.research.google.com/github/ShaziaOngit/Hackathon/blob/main/Function.ipynb\" target=\"_parent\"><img src=\"https://colab.research.google.com/assets/colab-badge.svg\" alt=\"Open In Colab\"/></a>"
      ]
    },
    {
      "cell_type": "code",
      "execution_count": null,
      "metadata": {
        "colab": {
          "base_uri": "https://localhost:8080/"
        },
        "id": "mKD2CMS2JWCk",
        "outputId": "b827080a-1552-44ea-8cca-1f53378822b2"
      },
      "outputs": [
        {
          "output_type": "stream",
          "name": "stdout",
          "text": [
            "Hello my name is Shazia Jamal and my age is 48\n",
            "<class 'int'>\n",
            "<class 'str'>\n",
            "Hello i am {first_name} {last_name}!\n",
            "['apple', 'grapes', 'banana']\n",
            "{'name': 'Shazia', 'age': 48, 'is_adult': True}\n"
          ]
        }
      ],
      "source": [
        "def greet(name:str,age:int):\n",
        "  print(f\"Hello my name is {name} and my age is {age}\")\n",
        "greet(\"Shazia Jamal\", 48)\n",
        "\n",
        "name:str = 48\n",
        "print(type(name))\n",
        "name=\"Shazia Jamal\"\n",
        "print(type(name))\n",
        "first_name=\"Shazia\"\n",
        "last_name=\"Jamal\"\n",
        "full_name= \"Hello i am {first_name} {last_name}!\"\n",
        "\n",
        "print(full_name)\n",
        "\n",
        "fruits:list[str] = [\"apple\", \"grapes\",\"banana\"]\n",
        "print(fruits)\n",
        "person:dict[str,int,bool] ={\"name\":\"Shazia\",\"age\":48,'is_adult':True}\n",
        "print(person)"
      ]
    }
  ]
}