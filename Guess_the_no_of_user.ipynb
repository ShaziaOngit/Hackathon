{
  "cells": [
    {
      "cell_type": "markdown",
      "metadata": {
        "id": "view-in-github",
        "colab_type": "text"
      },
      "source": [
        "<a href=\"https://colab.research.google.com/github/ShaziaOngit/Hackathon/blob/main/Guess_the_no_of_user.ipynb\" target=\"_parent\"><img src=\"https://colab.research.google.com/assets/colab-badge.svg\" alt=\"Open In Colab\"/></a>"
      ]
    },
    {
      "cell_type": "code",
      "execution_count": null,
      "metadata": {
        "colab": {
          "base_uri": "https://localhost:8080/"
        },
        "id": "53_Z3inNSaZ1",
        "outputId": "f0d42c87-3f52-4400-c58c-a5eca7b22031"
      },
      "outputs": [
        {
          "output_type": "stream",
          "name": "stdout",
          "text": [
            "Welcome to the Number Guessing Game!\n",
            "I'm thinking of a number between 1 and 100.\n",
            "Make a guess: 50\n",
            "Too high. Try again.\n",
            "Make a guess: 60\n",
            "Too high. Try again.\n",
            "Make a guess: 70\n",
            "Too high. Try again.\n",
            "Make a guess: 45\n",
            "Too high. Try again.\n",
            "Make a guess: 35\n",
            "Too high. Try again.\n",
            "Make a guess: 80\n",
            "Too high. Try again.\n",
            "Make a guess: 85\n",
            "Too high. Try again.\n",
            "Make a guess: 90\n",
            "Too high. Try again.\n",
            "Make a guess: 95\n",
            "Too high. Try again.\n",
            "Make a guess: 65\n",
            "Too high. Try again.\n",
            "Make a guess: 10\n",
            "Too high. Try again.\n",
            "Make a guess: 15\n",
            "Too high. Try again.\n",
            "Make a guess: 20\n",
            "Too high. Try again.\n",
            "Make a guess: 30\n",
            "Too high. Try again.\n",
            "Make a guess: 25\n",
            "Too high. Try again.\n",
            "Make a guess: 40\n",
            "Too high. Try again.\n",
            "Make a guess: 55\n",
            "Too high. Try again.\n",
            "Make a guess: 75\n",
            "Too high. Try again.\n",
            "Make a guess: 100\n",
            "Too high. Try again.\n",
            "Make a guess: 0\n",
            "Too low. Try again.\n",
            "Make a guess: 1\n",
            "Congratulations! You guessed the number 1 in 21 attempts.\n"
          ]
        }
      ],
      "source": [
        "import random\n",
        "\n",
        "def guess_the_number():\n",
        "    print(\"Welcome to the Number Guessing Game!\")\n",
        "    print(\"I'm thinking of a number between 1 and 100.\")\n",
        "\n",
        "    secret_number = random.randint(1, 100)\n",
        "    attempts = 0\n",
        "    guess = 0\n",
        "\n",
        "    while guess != secret_number:\n",
        "        try:\n",
        "            guess = int(input(\"Make a guess: \"))\n",
        "            attempts += 1\n",
        "\n",
        "            if guess < secret_number:\n",
        "                print(\"Too low. Try again.\")\n",
        "            elif guess > secret_number:\n",
        "                print(\"Too high. Try again.\")\n",
        "            else:\n",
        "                print(f\"Congratulations! You guessed the number {secret_number} in {attempts} attempts.\")\n",
        "        except ValueError:\n",
        "            print(\"Please enter a valid number.\")\n",
        "\n",
        "# Run the game\n",
        "guess_the_number()"
      ]
    }
  ],
  "metadata": {
    "colab": {
      "provenance": [],
      "authorship_tag": "ABX9TyPGK+B6SA9VvNijj1dog62O",
      "include_colab_link": true
    },
    "kernelspec": {
      "display_name": "Python 3",
      "name": "python3"
    },
    "language_info": {
      "name": "python"
    }
  },
  "nbformat": 4,
  "nbformat_minor": 0
}