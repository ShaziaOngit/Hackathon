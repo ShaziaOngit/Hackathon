{
  "nbformat": 4,
  "nbformat_minor": 0,
  "metadata": {
    "colab": {
      "provenance": [],
      "authorship_tag": "ABX9TyP+2elAqI6OpZBjWMQ9zXUr",
      "include_colab_link": true
    },
    "kernelspec": {
      "name": "python3",
      "display_name": "Python 3"
    },
    "language_info": {
      "name": "python"
    }
  },
  "cells": [
    {
      "cell_type": "markdown",
      "metadata": {
        "id": "view-in-github",
        "colab_type": "text"
      },
      "source": [
        "<a href=\"https://colab.research.google.com/github/ShaziaOngit/Hackathon/blob/main/Num_Int_.ipynb\" target=\"_parent\"><img src=\"https://colab.research.google.com/assets/colab-badge.svg\" alt=\"Open In Colab\"/></a>"
      ]
    },
    {
      "cell_type": "code",
      "execution_count": null,
      "metadata": {
        "id": "Hqm6flLLlZKI"
      },
      "outputs": [],
      "source": [
        "num_int: int = 45\n",
        "\n",
        "print(type(num_int),\" num_int = \",num_int,)  #\n",
        "\n",
        "num_int: int = 45\n",
        "\n",
        "print(type(num_45),\" num_45 = \",num_45,)  #\n",
        "\n",
        "<class 'int'>  num_int =  45"
      ]
    },
    {
      "cell_type": "code",
      "source": [
        "\n",
        "\n",
        "\n",
        "num_int: int = 45\n",
        "\n",
        "print(type(num_int),\" num_int = \",num_int,)  # prints the type and value of num_int\n",
        "\n",
        "num_int: int = 45\n",
        "\n",
        "print(type(num_int),\" num_int = \",num_int,)  # prints the type and value of num_int, num_45 was likely a typo so I changed it to num_int"
      ],
      "metadata": {
        "colab": {
          "base_uri": "https://localhost:8080/"
        },
        "id": "KTngNsVWpfVl",
        "outputId": "c0fd51d8-ff9a-45d7-e052-e7bca3cbe67b"
      },
      "execution_count": null,
      "outputs": [
        {
          "output_type": "stream",
          "name": "stdout",
          "text": [
            "<class 'int'>  num_int =  45\n",
            "<class 'int'>  num_int =  45\n"
          ]
        }
      ]
    },
    {
      "cell_type": "code",
      "source": [
        "\n",
        "num_float: float = 3.14\n",
        "#num_float: float = .14\n",
        "num_float: float = 3.14\n",
        "#num_float: float = .14\n",
        "\n",
        "print(type(num_float), \" num_float = \", num_float)  # <class 'float'>  num_float =  0.14\n",
        "\n",
        "num_float : float =3.14\n",
        "\n",
        "print (type(num_float), \"num_float = \", num_float)  # <class 'float'> num_float =  0.14"
      ],
      "metadata": {
        "colab": {
          "base_uri": "https://localhost:8080/"
        },
        "id": "Jqkdnb-F5VX3",
        "outputId": "6b5005e5-a6dd-4b16-94a4-ea1036d26ffd"
      },
      "execution_count": null,
      "outputs": [
        {
          "output_type": "stream",
          "name": "stdout",
          "text": [
            "<class 'float'>  num_float =  3.14\n",
            "<class 'float'> num_float =  3.14\n"
          ]
        }
      ]
    },
    {
      "cell_type": "code",
      "source": [
        "num_complex: complex = 2 + 3j\n",
        "\n",
        "print(type(num_complex), \" num_complex = \", num_complex)"
      ],
      "metadata": {
        "colab": {
          "base_uri": "https://localhost:8080/"
        },
        "id": "04DeKJOnIYCW",
        "outputId": "cd8ac54d-bc45-4a92-ea98-3b6a39ce96ea"
      },
      "execution_count": null,
      "outputs": [
        {
          "output_type": "stream",
          "name": "stdout",
          "text": [
            "<class 'complex'>  num_complex =  (2+3j)\n"
          ]
        }
      ]
    },
    {
      "cell_type": "code",
      "source": [
        "\n",
        "\n",
        "z = 3 + 4j\n",
        "\n",
        "print(\"Real Part:\", z.real)   # Output: 3.0\n",
        "print(\"Imaginary Part:\", z.imag)  # Output: 4.0"
      ],
      "metadata": {
        "colab": {
          "base_uri": "https://localhost:8080/"
        },
        "id": "vX9F-M4_JmQ4",
        "outputId": "7f54e8cc-c0b5-4cf7-b147-1fb115e4d456"
      },
      "execution_count": null,
      "outputs": [
        {
          "output_type": "stream",
          "name": "stdout",
          "text": [
            "Real Part: 3.0\n",
            "Imaginary Part: 4.0\n"
          ]
        }
      ]
    },
    {
      "cell_type": "code",
      "source": [
        "is_python_fun: bool = True  # or False\n",
        "print(type(is_python_fun), \" is_python_fun = \", is_python_fun)"
      ],
      "metadata": {
        "colab": {
          "base_uri": "https://localhost:8080/"
        },
        "id": "Scxq9ZkfQeO6",
        "outputId": "fbeb5a7a-2802-4a54-f287-4d996d05f0bb"
      },
      "execution_count": null,
      "outputs": [
        {
          "output_type": "stream",
          "name": "stdout",
          "text": [
            "<class 'bool'>  is_python_fun =  True\n"
          ]
        }
      ]
    },
    {
      "cell_type": "code",
      "source": [],
      "metadata": {
        "id": "_2xfCRM7R5r7"
      },
      "execution_count": null,
      "outputs": []
    },
    {
      "cell_type": "code",
      "source": [],
      "metadata": {
        "id": "LLjCt6foR7g6"
      },
      "execution_count": null,
      "outputs": []
    },
    {
      "cell_type": "code",
      "source": [
        "text_double: str  = \"Hello, Python!\"       # Double quotes\n",
        "text_single: str  = 'Hello, Python!'       # Single quotes\n",
        "text_multi: str   = '''Hello, Python!'''   # Triple single quotes\n",
        "text_multi_1: str = \"\"\"Hello, Python!\"\"\"   # Triple double quotes\n",
        "\n",
        "print(type(text_double), \" text_double   = \", text_double)\n",
        "print(type(text_single), \" text_single   = \", text_single)\n",
        "print(type(text_multi), \" text_multi    = \", text_multi)\n",
        "print(type(text_multi_1), \" text_multi_1  = \", text_multi_1)"
      ],
      "metadata": {
        "colab": {
          "base_uri": "https://localhost:8080/"
        },
        "id": "o-9aGD7VRD9D",
        "outputId": "e23a7225-5f5f-40b6-d100-6cc938892b99"
      },
      "execution_count": null,
      "outputs": [
        {
          "output_type": "stream",
          "name": "stdout",
          "text": [
            "<class 'str'>  text_double   =  Hello, Python!\n",
            "<class 'str'>  text_single   =  Hello, Python!\n",
            "<class 'str'>  text_multi    =  Hello, Python!\n",
            "<class 'str'>  text_multi_1  =  Hello, Python!\n"
          ]
        }
      ]
    },
    {
      "cell_type": "code",
      "source": [
        "my_list_1: int = [1, 2, 3, \"Java\", 3.14, True]\n",
        "\n",
        "my_list: list = [1, 2, 3, \"Python\", 3.14, 3+2j]\n",
        "\n",
        "print(type(my_list_1), \" my_list_1 = \", my_list_1)\n",
        "print(type(my_list), \" my_list   =  \" + str(my_list))"
      ],
      "metadata": {
        "colab": {
          "base_uri": "https://localhost:8080/"
        },
        "id": "Tesltr3kTJZz",
        "outputId": "cf85c52c-18b7-435a-8e32-540975529235"
      },
      "execution_count": null,
      "outputs": [
        {
          "output_type": "stream",
          "name": "stdout",
          "text": [
            "<class 'list'>  my_list_1 =  [1, 2, 3, 'Java', 3.14, True]\n",
            "<class 'list'>  my_list   =  [1, 2, 3, 'Python', 3.14, (3+2j)]\n"
          ]
        }
      ]
    },
    {
      "cell_type": "code",
      "source": [
        "\n",
        "my_tuple: tuple = (1, 2, 3, \"AI\", 2.71, False, .3 , 3+2j)\n",
        "print(type(my_tuple), \" my_tuple = \", my_tuple)"
      ],
      "metadata": {
        "colab": {
          "base_uri": "https://localhost:8080/"
        },
        "id": "1m09i4a_Vh-T",
        "outputId": "0f3c2831-3c9f-409d-c8ee-beb3f13fe3ab"
      },
      "execution_count": null,
      "outputs": [
        {
          "output_type": "stream",
          "name": "stdout",
          "text": [
            "<class 'tuple'>  my_tuple =  (1, 2, 3, 'AI', 2.71, False, 0.3, (3+2j))\n"
          ]
        }
      ]
    },
    {
      "cell_type": "code",
      "source": [
        "\n",
        "num_range: range = range(1, 10, 2) # range(start, stop, step)\n",
        "print(type(num_range), \" num_range = \", num_range.step)\n",
        "for i in range(1, 10, 2): # we will study loops indepth in classes ahead\n",
        "  print(i)\n",
        "\n",
        "1\n",
        "3\n",
        "5\n",
        "7\n",
        "9"
      ],
      "metadata": {
        "colab": {
          "base_uri": "https://localhost:8080/"
        },
        "id": "Gjwke4cjX-TV",
        "outputId": "959037fe-52e0-407a-af39-1a9a3281974c"
      },
      "execution_count": null,
      "outputs": [
        {
          "output_type": "stream",
          "name": "stdout",
          "text": [
            "<class 'range'>  num_range =  2\n",
            "1\n",
            "3\n",
            "5\n",
            "7\n",
            "9\n"
          ]
        },
        {
          "output_type": "execute_result",
          "data": {
            "text/plain": [
              "9"
            ]
          },
          "metadata": {},
          "execution_count": 71
        }
      ]
    },
    {
      "cell_type": "code",
      "source": [],
      "metadata": {
        "id": "j8RANeHoZyvH"
      },
      "execution_count": null,
      "outputs": []
    },
    {
      "cell_type": "code",
      "source": [],
      "metadata": {
        "id": "Vz_eifQfZz8g"
      },
      "execution_count": null,
      "outputs": []
    },
    {
      "cell_type": "code",
      "source": [
        "\n",
        "my_set: set = {1, 2, 33, 4, 4, 5}\n",
        "print(type(my_set), \"my_set = \", my_set)  #"
      ],
      "metadata": {
        "colab": {
          "base_uri": "https://localhost:8080/"
        },
        "id": "cJD2Kdr9Yg3a",
        "outputId": "6a78cc1f-a2e4-4628-ec98-72fbab90a28e"
      },
      "execution_count": null,
      "outputs": [
        {
          "output_type": "stream",
          "name": "stdout",
          "text": [
            "<class 'set'> my_set =  {1, 2, 33, 4, 5}\n"
          ]
        }
      ]
    },
    {
      "cell_type": "code",
      "source": [],
      "metadata": {
        "id": "syVCWC6GkhNM"
      },
      "execution_count": null,
      "outputs": []
    },
    {
      "cell_type": "code",
      "source": [],
      "metadata": {
        "id": "6-s1ewqDUzLl"
      },
      "execution_count": null,
      "outputs": []
    },
    {
      "cell_type": "code",
      "source": [
        "python3 --version"
      ],
      "metadata": {
        "colab": {
          "base_uri": "https://localhost:8080/",
          "height": 228
        },
        "id": "yW5bFN7pU4Lr",
        "outputId": "3b4d3c40-4b2d-4935-c786-3d3c2ecb6856"
      },
      "execution_count": null,
      "outputs": [
        {
          "output_type": "error",
          "ename": "NameError",
          "evalue": "name 'python3' is not defined",
          "traceback": [
            "\u001b[0;31m---------------------------------------------------------------------------\u001b[0m",
            "\u001b[0;31mNameError\u001b[0m                                 Traceback (most recent call last)",
            "\u001b[0;32m<ipython-input-1-3f635663dc27>\u001b[0m in \u001b[0;36m<cell line: 0>\u001b[0;34m()\u001b[0m\n\u001b[0;32m----> 1\u001b[0;31m \u001b[0mpython3\u001b[0m \u001b[0;34m-\u001b[0m\u001b[0;34m-\u001b[0m\u001b[0mversion\u001b[0m\u001b[0;34m\u001b[0m\u001b[0;34m\u001b[0m\u001b[0m\n\u001b[0m",
            "\u001b[0;31mNameError\u001b[0m: name 'python3' is not defined"
          ]
        }
      ]
    },
    {
      "cell_type": "code",
      "source": [
        "from IPython.display import Image, display\n",
        "import os\n",
        "\n",
        "# 1. Specify the correct path to your image file:\n",
        "#file_path = \"Apollo11.jpg\"  # If the image is in the current directory\n",
        "file_path = \"images/Apollo11.jpg\"  # If the image is in a subdirectory called 'images' or specify full path e.g., /path/to/your/image.jpg\"\n",
        "\n",
        "\n",
        "# 2. Check if the file exists:\n",
        "if not os.path.exists(file_path):\n",
        "    raise FileNotFoundError(f\"File not found: {file_path}\")\n",
        "\n",
        "# 3. Open and display the image:\n",
        "with open(file_path, \"rb\") as image_file:\n",
        "    image_data = image_file.read()\n",
        "\n",
        "display(Image(data=image_data))\n",
        "byte_data: bytes = b\"Hello\"\n",
        "print(type(byte_data), \" byte_data = \", byte_data)  # <class 'bytes'>"
      ],
      "metadata": {
        "colab": {
          "base_uri": "https://localhost:8080/"
        },
        "id": "dWY9L2MwhenF",
        "outputId": "82116fa4-226a-4824-d9f1-e85d5fb869af"
      },
      "execution_count": null,
      "outputs": [
        {
          "output_type": "stream",
          "name": "stdout",
          "text": [
            "<class 'bytes'>  byte_data =  b'Hello'\n"
          ]
        }
      ]
    },
    {
      "cell_type": "code",
      "source": [
        "byte_array: bytearray = bytearray([65, 66, 67, 69]) #65=A, 66=B ....decimal number system\n",
        "print(type(byte_array), \" byte_array = \", byte_array)  # <class 'bytearray'>\n",
        "print(byte_array[0])\n",
        "print(chr(byte_array[0]))\n",
        "print(\"Empty bytearray(): \",bytearray())"
      ],
      "metadata": {
        "colab": {
          "base_uri": "https://localhost:8080/"
        },
        "id": "dLOle_jypRmE",
        "outputId": "f1fd1767-941f-44ce-af2b-68513fec383c"
      },
      "execution_count": null,
      "outputs": [
        {
          "output_type": "stream",
          "name": "stdout",
          "text": [
            "<class 'bytearray'>  byte_array =  bytearray(b'ABCE')\n",
            "65\n",
            "A\n",
            "Empty bytearray():  bytearray(b'')\n"
          ]
        }
      ]
    },
    {
      "cell_type": "code",
      "source": [
        "byte_array: bytearray = bytearray([65, 66, 67, 69])\n",
        "# Converting the entire bytearray to a string using decode()\n",
        "print(\"Decoded string: \", byte_array.decode('utf-8'))  # Output: ABCE"
      ],
      "metadata": {
        "colab": {
          "base_uri": "https://localhost:8080/"
        },
        "id": "x5IindZeqWRW",
        "outputId": "0c8610fa-723c-4591-aac5-48d75d4b969c"
      },
      "execution_count": null,
      "outputs": [
        {
          "output_type": "stream",
          "name": "stdout",
          "text": [
            "Decoded string:  ABCE\n"
          ]
        }
      ]
    },
    {
      "cell_type": "code",
      "source": [
        "# Creating a bytearray object\n",
        "ba: bytearray = bytearray(b\"hello\")\n",
        "print(\"Before: ba = \", ba)\n",
        "\n",
        "# Modifying the bytearray\n",
        "ba[0] = 72  # ASCII value of 'H'\n",
        "\n",
        "print(\"After: ba = \",ba)  # Output: bytearray(b'Hello')"
      ],
      "metadata": {
        "colab": {
          "base_uri": "https://localhost:8080/"
        },
        "id": "EFOszQkzqiM4",
        "outputId": "1e204c4d-14ab-4c56-f815-73160d2a1582"
      },
      "execution_count": null,
      "outputs": [
        {
          "output_type": "stream",
          "name": "stdout",
          "text": [
            "Before: ba =  bytearray(b'hello')\n",
            "After: ba =  bytearray(b'Hello')\n"
          ]
        }
      ]
    },
    {
      "cell_type": "code",
      "source": [
        "mem_view: memoryview = memoryview(b\"Operation Badar\")\n",
        "print(type(mem_view), \" mem_view = \", mem_view)  # <class 'memoryview'>\n",
        "print(bytes(mem_view[0:5]))\n",
        "print( mem_view[6:11] ) #cast it to byte otherwise it will show memory address"
      ],
      "metadata": {
        "colab": {
          "base_uri": "https://localhost:8080/"
        },
        "id": "oNZFra_xqwez",
        "outputId": "d1b87875-4f75-4365-baaf-ed2542cc46af"
      },
      "execution_count": null,
      "outputs": [
        {
          "output_type": "stream",
          "name": "stdout",
          "text": [
            "<class 'memoryview'>  mem_view =  <memory at 0x7bb6b6dbfb80>\n",
            "b'Opera'\n",
            "<memory at 0x7bb6b43684c0>\n"
          ]
        }
      ]
    },
    {
      "cell_type": "code",
      "source": [
        "x: str = None\n",
        "y: str = None\n",
        "z: str = x\n",
        "\n",
        "#display the data type of x:\n",
        "print(type(x))\n",
        "print(\"value of x = \" + str(x) )\n",
        "print(\"x == y = \", x == y)\n",
        "print(\"id(x) = \", id(x))\n",
        "print(\"id(y) = \", id(y))\n",
        "print(\"id(z) = \", id(z))\n",
        "print(\"x is y = \", x is y)\n",
        "print(\"x is z = \", x is z)\n",
        "print(\"id(x) is id(z) = \", id(x) is id(z)) # False :( why? you will get the answer in topic 'Integer Literals in Python'\n",
        "print(\"id(x) == id(z) = \", id(x) == id(z)) # True\n",
        "'''\n",
        "In Python, `==` is the equality operator, which checks if the values of two objects are equal.\n",
        "On the other hand, `is` is the identity operator, which checks if two objects are the same object in memory.\n",
        "'''"
      ],
      "metadata": {
        "colab": {
          "base_uri": "https://localhost:8080/",
          "height": 296
        },
        "id": "NVKUn_tNrCSp",
        "outputId": "3939fe9d-ac9d-4cdd-c128-9cf363496109"
      },
      "execution_count": null,
      "outputs": [
        {
          "output_type": "stream",
          "name": "stdout",
          "text": [
            "<class 'NoneType'>\n",
            "value of x = None\n",
            "x == y =  True\n",
            "id(x) =  9691392\n",
            "id(y) =  9691392\n",
            "id(z) =  9691392\n",
            "x is y =  True\n",
            "x is z =  True\n",
            "id(x) is id(z) =  False\n",
            "id(x) == id(z) =  True\n"
          ]
        },
        {
          "output_type": "execute_result",
          "data": {
            "text/plain": [
              "'\\nIn Python, `==` is the equality operator, which checks if the values of two objects are equal.\\nOn the other hand, `is` is the identity operator, which checks if two objects are the same object in memory.\\n'"
            ],
            "application/vnd.google.colaboratory.intrinsic+json": {
              "type": "string"
            }
          },
          "metadata": {},
          "execution_count": 105
        }
      ]
    },
    {
      "cell_type": "code",
      "source": [
        "print(\"None is None            = \", None is None) # True\n",
        "print(\"None == None            = \", None == None) # True\n",
        "print(\"None == x               = \", None == x)\n",
        "print(\"None is x               = \", None is x)\n",
        "print(\"id(None) is id(None)    = \", id(None) is id(None)) # 'is' check memory space sharing\n",
        "#If number is out of integer literal range -5 to 256 then even the same number are considered as seprate object"
      ],
      "metadata": {
        "colab": {
          "base_uri": "https://localhost:8080/"
        },
        "id": "q8Il-Fn5rwO1",
        "outputId": "9caa717b-c462-4446-d6af-a1d6a832bb52"
      },
      "execution_count": null,
      "outputs": [
        {
          "output_type": "stream",
          "name": "stdout",
          "text": [
            "None is None            =  True\n",
            "None == None            =  True\n",
            "None == x               =  True\n",
            "None is x               =  True\n",
            "id(None) is id(None)    =  False\n"
          ]
        }
      ]
    },
    {
      "cell_type": "code",
      "source": [],
      "metadata": {
        "id": "RREmjbf0sZB_"
      },
      "execution_count": null,
      "outputs": []
    },
    {
      "cell_type": "code",
      "source": [
        "print(\"\"\"Variable x, y & z have 'None' value, as we know that 'None' is a singleton object,\n",
        "meaning that there is only one instance of `None` in the entire Python environment.\n",
        "So the id(x), id(y) & id(z) represents the same object id in memory.\\n\"\"\")\n",
        "\n",
        "x: str = None\n",
        "y: str = None\n",
        "z: str = x\n",
        "\n",
        "print(\"ID of variable x  = \" + str(id(x)))\n",
        "print(\"ID of variable y  = \" + str(id(y)))\n",
        "print(\"ID of variable z  = \" + str(id(z)))\n",
        "\n",
        "print(\"\\nIs variable x & y shares the same memory space? \\nThe answer is: \" + str(id(x) == id(y)))"
      ],
      "metadata": {
        "colab": {
          "base_uri": "https://localhost:8080/"
        },
        "id": "cZd5VcAfshTW",
        "outputId": "cc73f446-4e7d-4a6f-ffcc-f8d92ea7aa3a"
      },
      "execution_count": null,
      "outputs": [
        {
          "output_type": "stream",
          "name": "stdout",
          "text": [
            "Variable x, y & z have 'None' value, as we know that 'None' is a singleton object,\n",
            "meaning that there is only one instance of `None` in the entire Python environment.\n",
            "So the id(x), id(y) & id(z) represents the same object id in memory.\n",
            "\n",
            "ID of variable x  = 9691392\n",
            "ID of variable y  = 9691392\n",
            "ID of variable z  = 9691392\n",
            "\n",
            "Is variable x & y shares the same memory space? \n",
            "The answer is: True\n"
          ]
        }
      ]
    },
    {
      "cell_type": "code",
      "source": [
        "if(None):\n",
        "    print(\"if block: This line of code will not execute because in Python 'None' is considered False\")\n",
        "\n",
        "print(\"\"\"Variable x, y & z have 'None' value. As we know, 'None' is a singleton object,\n",
        "meaning there is only one instance of `None` in the entire Python environment.\n",
        "So the id(x), id(y) & id(z) represent the same object id in memory.\\n\"\"\")\n",
        "\n",
        "x: str = None\n",
        "y: str = None\n",
        "z: str = x\n",
        "\n",
        "print(\"ID of variable x  = \" + str(id(x)))\n",
        "print(\"ID of variable y  = \" + str(id(y)))\n",
        "print(\"ID of variable z  = \" + str(id(z)))\n",
        "\n",
        "print(\"\\nDo variable x & y share the same memory space? \\nThe answer is: \" + str(id(x) == id(y)))\n",
        "\n",
        "if not None:\n",
        "    print(\"else block: As None is considered False, so this line of code will execute\")"
      ],
      "metadata": {
        "colab": {
          "base_uri": "https://localhost:8080/"
        },
        "id": "6qe74A50tdE6",
        "outputId": "05bf32a9-6112-4f5e-fe4e-3941a38c467a"
      },
      "execution_count": null,
      "outputs": [
        {
          "output_type": "stream",
          "name": "stdout",
          "text": [
            "Variable x, y & z have 'None' value. As we know, 'None' is a singleton object,\n",
            "meaning there is only one instance of `None` in the entire Python environment.\n",
            "So the id(x), id(y) & id(z) represent the same object id in memory.\n",
            "\n",
            "ID of variable x  = 9691392\n",
            "ID of variable y  = 9691392\n",
            "ID of variable z  = 9691392\n",
            "\n",
            "Do variable x & y share the same memory space? \n",
            "The answer is: True\n",
            "else block: As None is considered False, so this line of code will execute\n"
          ]
        }
      ]
    },
    {
      "cell_type": "code",
      "source": [
        "x: int = 1\n",
        "y: int = 1\n",
        "z: int = x\n",
        "\n",
        "print(\"Value of x = \" + str(x) + \", and id(x) = \" + str(id(x))) # when you need to concatinate any thing with string you need to first cast it to str()\n",
        "print(\"Value of y = \" + str(y) + \", and id(y) = \" + str(id(y)))\n",
        "print(\"Value of z = \" + str(z) + \", and id(z) = \" + str(id(z)))\n",
        "print(\"id(x) == id(y) = \", id(x) == id(y) )\n",
        "print(\"id(x) is id(y) = \", id(x) is id(y) ) # ;)"
      ],
      "metadata": {
        "colab": {
          "base_uri": "https://localhost:8080/"
        },
        "id": "t5OTRfFEtmuE",
        "outputId": "b6608317-878f-4b0c-e662-3c89f2629fbc"
      },
      "execution_count": null,
      "outputs": [
        {
          "output_type": "stream",
          "name": "stdout",
          "text": [
            "Value of x = 1, and id(x) = 10750856\n",
            "Value of y = 1, and id(y) = 10750856\n",
            "Value of z = 1, and id(z) = 10750856\n",
            "id(x) == id(y) =  True\n",
            "id(x) is id(y) =  False\n"
          ]
        }
      ]
    },
    {
      "cell_type": "code",
      "source": [],
      "metadata": {
        "id": "W_jRYjAAt1pj"
      },
      "execution_count": null,
      "outputs": []
    },
    {
      "cell_type": "code",
      "source": [
        "x = -6\n",
        "y = -6\n",
        "z = x\n",
        "\n",
        "print(\"Value of x = \" + str(x) + \", and id(x) = \" + str(id(x)))\n",
        "print(\"Value of y = \" + str(y) + \", and id(y) = \" + str(id(y)))\n",
        "print(\"Value of z = \" + str(z) + \", and id(z) = \" + str(id(z)))\n",
        "\n",
        "print(\"\\n ===================== \\n\")\n",
        "\n",
        "a = 257\n",
        "b = 257\n",
        "c = a\n",
        "\n",
        "print(\"Value of x = \" + str(a) + \", and id(a) = \" + str(id(a)))\n",
        "print(\"Value of y = \" + str(b) + \", and id(b) = \" + str(id(b)))\n",
        "print(\"Value of z = \" + str(c) + \", and id(c) = \" + str(id(c)))"
      ],
      "metadata": {
        "colab": {
          "base_uri": "https://localhost:8080/"
        },
        "id": "PUvB6a2Dt1vF",
        "outputId": "32651bda-a6e0-4f4b-d91e-3fc281a674a1"
      },
      "execution_count": null,
      "outputs": [
        {
          "output_type": "stream",
          "name": "stdout",
          "text": [
            "Value of x = -6, and id(x) = 136024637754960\n",
            "Value of y = -6, and id(y) = 136024637754704\n",
            "Value of z = -6, and id(z) = 136024637754960\n",
            "\n",
            " ===================== \n",
            "\n",
            "Value of x = 257, and id(a) = 136024637755728\n",
            "Value of y = 257, and id(b) = 136024637754608\n",
            "Value of z = 257, and id(c) = 136024637755728\n"
          ]
        }
      ]
    },
    {
      "cell_type": "code",
      "source": [
        "shark1_age = 300\n",
        "shark2_age = 300\n",
        "\n",
        "print(\"Value of shark1_age = \" + str(shark1_age) + \", and id(shark1_age) = \" + str(id(shark1_age)))\n",
        "print(\"Value of shark2_age = \" + str(shark2_age) + \", and id(shark2_age) = \" + str(id(shark2_age)))\n",
        "\n",
        "# Comparison by value\n",
        "if shark1_age == shark2_age:\n",
        "    print(\"shark1_age & shark2_age have same age\")\n",
        "else:\n",
        "    print(\"shark1_age & shark2_age have different age\")\n",
        "\n",
        "print(\" ===================== \")\n",
        "\n",
        "# Comparison by identity\n",
        "if id(shark1_age) == id(shark2_age):\n",
        "    print(\"shark1_age & shark2_age have same id\")\n",
        "else:\n",
        "    print(\"shark1_age & shark2_age have different id\")"
      ],
      "metadata": {
        "colab": {
          "base_uri": "https://localhost:8080/"
        },
        "id": "jUAJVEjgvF-5",
        "outputId": "ff7d46e9-a5f0-4b2d-ed74-85cd84408d56"
      },
      "execution_count": null,
      "outputs": [
        {
          "output_type": "stream",
          "name": "stdout",
          "text": [
            "Value of shark1_age = 300, and id(shark1_age) = 136024637756112\n",
            "Value of shark2_age = 300, and id(shark2_age) = 136024637756272\n",
            "shark1_age & shark2_age have same age\n",
            " ===================== \n",
            "shark1_age & shark2_age have different id\n"
          ]
        }
      ]
    },
    {
      "cell_type": "code",
      "source": [
        "i: int = 10\n",
        "print(\"Value of i = \" + str(i) + \",     Type of i = \" + str(type(i)))\n",
        "\n",
        "j: float = 20.6\n",
        "\n",
        "f: float = i + j #Implicit Type Casting\n",
        "print(\"Value of f = \" + str(f) + \",   Type of f = \" + str(type(f)))\n",
        "\n",
        "f1: float = 66.89\n",
        "print(\"Value of f1 = \" + str(f1) + \", Type of i = \" + str(type(f1)))\n",
        "\n",
        "i1: int = int(f1) #When ever you type cast a float value into an integer it truncate\n",
        "             #the decimal part and only keeps the whole number\n",
        "print(\"Value of i1 = \" + str(i1) + \",    Type of i = \" + str(type(i1)))\n",
        "\n",
        "s: str = \"25.8\"\n",
        "f2: float = float(s)\n",
        "print(\"Value of f2 = \" + str(f2) + \",  Type of i = \" + str(type(f2)))\n",
        "\n",
        "#uncomment the below line of code to see error\n",
        "#i2 = int(s) #correct this error by casting with float()\n",
        "#print(\"Value of i2 = \" + str(i2) + \", Type of i = \" + str(type(i2)))"
      ],
      "metadata": {
        "colab": {
          "base_uri": "https://localhost:8080/"
        },
        "id": "SJVV1a6FvrLr",
        "outputId": "90cbf9c5-f221-4965-eb07-bd5f9d9d3cfc"
      },
      "execution_count": null,
      "outputs": [
        {
          "output_type": "stream",
          "name": "stdout",
          "text": [
            "Value of i = 10,     Type of i = <class 'int'>\n",
            "Value of f = 30.6,   Type of f = <class 'float'>\n",
            "Value of f1 = 66.89, Type of i = <class 'float'>\n",
            "Value of i1 = 66,    Type of i = <class 'int'>\n",
            "Value of f2 = 25.8,  Type of i = <class 'float'>\n"
          ]
        }
      ]
    },
    {
      "cell_type": "code",
      "source": [
        "k: int = -9 #Any number either positive or negative, beside '0' ZERO is considered True\n",
        "b: bool = bool(k)\n",
        "print(\"Value of b = \" + str(b) + \", Type of b = \" + str(type(b)))\n",
        "\n",
        "print(\"\\n =================== \\n\")\n",
        "\n",
        "if(k):\n",
        "  print(\"\"\"if block: This line of code will execute if we provide any integer value\n",
        "          other then '0' ZERO\"\"\")\n",
        "else:\n",
        "  print(\"else block: As '0' is considered False, so this line of code will not execute\")\n",
        "\n",
        "print(\"\\n =================== \\n\")\n",
        "\n",
        "print(\"check: bool(\\\"55\\\")             = \", bool(\"55\"))\n",
        "print(\"check: bool(\\\"\\\")               = \", bool(\"\"))\n",
        "print(\"check: bool([1, 2, 3])        = \", bool([1, 2, 3]))\n",
        "print(\"check: bool({\\\"key\\\", \\\"value\\\"}) = \", bool({\"key\", \"value\"}))\n",
        "\n",
        "#Note: we will learn about list and dictionary in up comming classes\n",
        "print(\"check: bool([])               = \", bool([])) #[] square brackets used to represent list\n",
        "print(\"check: bool({})               = \", bool({})) #{} curly brackets used to represent dictionary"
      ],
      "metadata": {
        "colab": {
          "base_uri": "https://localhost:8080/"
        },
        "id": "VeSx3xd1v3Hy",
        "outputId": "4cb5e980-e9c1-4095-d3ba-6d62da98c92f"
      },
      "execution_count": null,
      "outputs": [
        {
          "output_type": "stream",
          "name": "stdout",
          "text": [
            "Value of b = True, Type of b = <class 'bool'>\n",
            "\n",
            " =================== \n",
            "\n",
            "if block: This line of code will execute if we provide any integer value\n",
            "          other then '0' ZERO\n",
            "\n",
            " =================== \n",
            "\n",
            "check: bool(\"55\")             =  True\n",
            "check: bool(\"\")               =  False\n",
            "check: bool([1, 2, 3])        =  True\n",
            "check: bool({\"key\", \"value\"}) =  True\n",
            "check: bool([])               =  False\n",
            "check: bool({})               =  False\n"
          ]
        }
      ]
    },
    {
      "cell_type": "code",
      "source": [
        "age: int = 20\n",
        "weight: float = 66.89\n",
        "print(\"check: isinstance(age, int)      = \", isinstance(age, int))\n",
        "print(\"check: isinstance(weight, int)   = \", isinstance(weight, int))\n",
        "print(\"check: isinstance(weight, float) = \", isinstance(weight, float))"
      ],
      "metadata": {
        "id": "_NPbCxp-wMt4",
        "outputId": "4d07c473-ab39-4cd5-9369-0283aafd8495",
        "colab": {
          "base_uri": "https://localhost:8080/"
        }
      },
      "execution_count": null,
      "outputs": [
        {
          "output_type": "stream",
          "name": "stdout",
          "text": [
            "check: isinstance(age, int)      =  True\n",
            "check: isinstance(weight, int)   =  False\n",
            "check: isinstance(weight, float) =  True\n"
          ]
        }
      ]
    }
  ]
}