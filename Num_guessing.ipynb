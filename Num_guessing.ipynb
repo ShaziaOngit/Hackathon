{
  "nbformat": 4,
  "nbformat_minor": 0,
  "metadata": {
    "colab": {
      "provenance": [],
      "authorship_tag": "ABX9TyPUOuGyGbIr7x6deVX6Lw2A",
      "include_colab_link": true
    },
    "kernelspec": {
      "name": "python3",
      "display_name": "Python 3"
    },
    "language_info": {
      "name": "python"
    }
  },
  "cells": [
    {
      "cell_type": "markdown",
      "metadata": {
        "id": "view-in-github",
        "colab_type": "text"
      },
      "source": [
        "<a href=\"https://colab.research.google.com/github/ShaziaOngit/Hackathon/blob/main/Num_guessing.ipynb\" target=\"_parent\"><img src=\"https://colab.research.google.com/assets/colab-badge.svg\" alt=\"Open In Colab\"/></a>"
      ]
    },
    {
      "cell_type": "code",
      "execution_count": null,
      "metadata": {
        "id": "HB2Fp8xiIxSd",
        "colab": {
          "base_uri": "https://localhost:8080/"
        },
        "outputId": "ae024615-5f0e-43ee-8ab0-410a2ac6131f"
      },
      "outputs": [
        {
          "output_type": "stream",
          "name": "stdout",
          "text": [
            "Welcome to the Number Guessing Game!\n",
            "Think of a number between 1 and 100, and I'll try to guess it.\n",
            "Press Enter when you're ready...50\n",
            "My guess is 50\n",
            "Is it (H)igh, (L)ow, or (C)orrect? Correct \n",
            "Please enter H, L, or C only.\n",
            "My guess is 50\n",
            "Is it (H)igh, (L)ow, or (C)orrect? C\n",
            "Yay! I guessed your number: 50\n"
          ]
        }
      ],
      "source": [
        "print(\"Welcome to the Number Guessing Game!\")\n",
        "print(\"Think of a number between 1 and 100, and I'll try to guess it.\")\n",
        "input(\"Press Enter when you're ready...\")\n",
        "\n",
        "low = 1\n",
        "high = 100\n",
        "feedback = ''\n",
        "\n",
        "while feedback != 'C':\n",
        "    guess = (low + high) // 2\n",
        "    print(f\"My guess is {guess}\")\n",
        "    feedback = input(\"Is it (H)igh, (L)ow, or (C)orrect? \").upper()\n",
        "\n",
        "    if feedback == 'H':\n",
        "        high = guess - 1\n",
        "    elif feedback == 'L':\n",
        "        low = guess + 1\n",
        "    elif feedback != 'C':\n",
        "        print(\"Please enter H, L, or C only.\")\n",
        "\n",
        "print(f\"Yay! I guessed your number: {guess}\")"
      ]
    }
  ]
}