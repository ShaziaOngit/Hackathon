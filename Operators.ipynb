{
  "nbformat": 4,
  "nbformat_minor": 0,
  "metadata": {
    "colab": {
      "provenance": [],
      "authorship_tag": "ABX9TyOCOhD9SKb1b943JUiNVmSZ",
      "include_colab_link": true
    },
    "kernelspec": {
      "name": "python3",
      "display_name": "Python 3"
    },
    "language_info": {
      "name": "python"
    }
  },
  "cells": [
    {
      "cell_type": "markdown",
      "metadata": {
        "id": "view-in-github",
        "colab_type": "text"
      },
      "source": [
        "<a href=\"https://colab.research.google.com/github/ShaziaOngit/Hackathon/blob/main/Operators.ipynb\" target=\"_parent\"><img src=\"https://colab.research.google.com/assets/colab-badge.svg\" alt=\"Open In Colab\"/></a>"
      ]
    },
    {
      "cell_type": "code",
      "execution_count": null,
      "metadata": {
        "colab": {
          "base_uri": "https://localhost:8080/"
        },
        "id": "IX9Nw4GO_71u",
        "outputId": "6f0e8146-9e48-464f-e62b-dae947592a29"
      },
      "outputs": [
        {
          "output_type": "stream",
          "name": "stdout",
          "text": [
            "3\n",
            "6\n",
            "18\n",
            "8\n",
            "64\n",
            "32.0\n"
          ]
        }
      ],
      "source": [
        "a=3\n",
        "print(a)\n",
        "a+=3\n",
        "print(a)\n",
        "a*=3\n",
        "print(a)\n",
        "a-=10\n",
        "print(a)\n",
        "a**=2\n",
        "print(a)\n",
        "a/=2\n",
        "print(a)"
      ]
    },
    {
      "cell_type": "code",
      "source": [],
      "metadata": {
        "id": "n6wP1anvHnkO"
      },
      "execution_count": null,
      "outputs": []
    }
  ]
}