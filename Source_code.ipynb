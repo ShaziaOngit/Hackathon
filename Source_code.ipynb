{
  "nbformat": 4,
  "nbformat_minor": 0,
  "metadata": {
    "colab": {
      "provenance": [],
      "authorship_tag": "ABX9TyNMeTtPKxKN9BGkFz67G8Nk",
      "include_colab_link": true
    },
    "kernelspec": {
      "name": "python3",
      "display_name": "Python 3"
    },
    "language_info": {
      "name": "python"
    }
  },
  "cells": [
    {
      "cell_type": "markdown",
      "metadata": {
        "id": "view-in-github",
        "colab_type": "text"
      },
      "source": [
        "<a href=\"https://colab.research.google.com/github/ShaziaOngit/Hackathon/blob/main/Source_code.ipynb\" target=\"_parent\"><img src=\"https://colab.research.google.com/assets/colab-badge.svg\" alt=\"Open In Colab\"/></a>"
      ]
    },
    {
      "cell_type": "code",
      "execution_count": null,
      "metadata": {
        "colab": {
          "base_uri": "https://localhost:8080/"
        },
        "id": "q8bSXHqEgqD1",
        "outputId": "6f878550-94e3-490c-8d9a-4b39c7bf0899"
      },
      "outputs": [
        {
          "output_type": "stream",
          "name": "stdout",
          "text": [
            "Hello, my name is Shazia Mohtashim and I am 48 years old.\n"
          ]
        }
      ],
      "source": [
        "\n",
        "class Person: # Class Person (source code/blue print of an object at runtime)\n",
        "    def __init__(self, name: str, age: int): # initilizer or constructor which is responsible to create Object in memory at runtime\n",
        "        self.name = name           # Pereson attibute\n",
        "        self.age = age             # Pereson attibute\n",
        "\n",
        "    def greet(self): # Person Class method greet()\n",
        "        print(f\"Hello, my name is {self.name} and I am {self.age} years old.\") # Print/Output to console/terminal\n",
        "\n",
        "# Lets create a Person object in memory\n",
        "person: Person = Person(\"Shazia Mohtashim\", 48)\n",
        "\n",
        "person.greet() # Lets call Person Object's greet method"
      ]
    }
  ]
}