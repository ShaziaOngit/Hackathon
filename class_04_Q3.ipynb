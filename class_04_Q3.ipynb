{
  "nbformat": 4,
  "nbformat_minor": 0,
  "metadata": {
    "colab": {
      "provenance": [],
      "include_colab_link": true
    },
    "kernelspec": {
      "name": "python3",
      "display_name": "Python 3"
    },
    "language_info": {
      "name": "python"
    }
  },
  "cells": [
    {
      "cell_type": "markdown",
      "metadata": {
        "id": "view-in-github",
        "colab_type": "text"
      },
      "source": [
        "<a href=\"https://colab.research.google.com/github/ShaziaOngit/Hackathon/blob/main/class_04_Q3.ipynb\" target=\"_parent\"><img src=\"https://colab.research.google.com/assets/colab-badge.svg\" alt=\"Open In Colab\"/></a>"
      ]
    },
    {
      "cell_type": "code",
      "source": [
        "lst = [1,2,3,4,5]\n",
        "lst2=[]\n",
        "for i in lst:\n",
        "  lst2.append(i*2)\n",
        "lst2"
      ],
      "metadata": {
        "colab": {
          "base_uri": "https://localhost:8080/"
        },
        "id": "Fez5oMhwx_ri",
        "outputId": "e103384b-d549-4e54-cf17-4ee6f7e04388"
      },
      "execution_count": null,
      "outputs": [
        {
          "output_type": "execute_result",
          "data": {
            "text/plain": [
              "[2, 4, 6, 8, 10]"
            ]
          },
          "metadata": {},
          "execution_count": 1
        }
      ]
    },
    {
      "cell_type": "markdown",
      "source": [
        "List Comprehension\n",
        "- [expression for element in iteratable if condition]"
      ],
      "metadata": {
        "id": "COO_R8CgziMF"
      }
    },
    {
      "cell_type": "code",
      "source": [
        "lst = [1,2,3,4,5]\n",
        "lst2 = [i*2 for i in lst]\n",
        "lst2"
      ],
      "metadata": {
        "colab": {
          "base_uri": "https://localhost:8080/"
        },
        "id": "fM1Kq4-XzmrQ",
        "outputId": "bf1163c7-a536-42a3-daee-d851a70eaa76"
      },
      "execution_count": null,
      "outputs": [
        {
          "output_type": "execute_result",
          "data": {
            "text/plain": [
              "[2, 4, 6, 8, 10]"
            ]
          },
          "metadata": {},
          "execution_count": 3
        }
      ]
    },
    {
      "cell_type": "code",
      "source": [
        "lst1 = [1,2,3,4,5,6,7,8,9,10]\n",
        "lst2 = [i for i in lst1 if i%2==0]\n",
        "lst2"
      ],
      "metadata": {
        "colab": {
          "base_uri": "https://localhost:8080/"
        },
        "id": "A8NFDsGA0XkZ",
        "outputId": "dc4b4667-8b9e-44d0-8f34-4e43463e5394"
      },
      "execution_count": null,
      "outputs": [
        {
          "output_type": "execute_result",
          "data": {
            "text/plain": [
              "[2, 4, 6, 8, 10]"
            ]
          },
          "metadata": {},
          "execution_count": 4
        }
      ]
    },
    {
      "cell_type": "code",
      "source": [
        "lst1 = [1,2,3,4,5,6,7,8,9,10]\n",
        "lst2 = [i for i in lst1 if i>5]\n"
      ],
      "metadata": {
        "colab": {
          "base_uri": "https://localhost:8080/"
        },
        "id": "xav6m1ix0x_r",
        "outputId": "5a419496-8ed0-489b-b949-3f92cc713353"
      },
      "execution_count": null,
      "outputs": [
        {
          "output_type": "execute_result",
          "data": {
            "text/plain": [
              "[4, 16, 36, 64, 100]"
            ]
          },
          "metadata": {},
          "execution_count": 5
        }
      ]
    },
    {
      "cell_type": "code",
      "source": [
        "word=[\"apple\",\"mengo\",\"banana\"]\n",
        "word1 = [w.upper() for w in word]\n",
        "word1"
      ],
      "metadata": {
        "colab": {
          "base_uri": "https://localhost:8080/"
        },
        "id": "iCtQmJst12_v",
        "outputId": "1bcfda7a-983b-407e-c630-8de86222a0c4"
      },
      "execution_count": null,
      "outputs": [
        {
          "output_type": "execute_result",
          "data": {
            "text/plain": [
              "['APPLE', 'MENGO', 'BANANA']"
            ]
          },
          "metadata": {},
          "execution_count": 8
        }
      ]
    },
    {
      "cell_type": "code",
      "source": [
        "dc = {\"name\":\"umer\",\"age\":20}\n",
        "dc"
      ],
      "metadata": {
        "colab": {
          "base_uri": "https://localhost:8080/"
        },
        "id": "QTXdadfB18DA",
        "outputId": "aa5f143d-f071-4753-ce68-06c2f7ad9600"
      },
      "execution_count": null,
      "outputs": [
        {
          "output_type": "execute_result",
          "data": {
            "text/plain": [
              "{'name': 'umer', 'age': 20}"
            ]
          },
          "metadata": {},
          "execution_count": 10
        }
      ]
    },
    {
      "cell_type": "code",
      "source": [
        "dc = dict(name=\"umer\",age=20)\n",
        "dc"
      ],
      "metadata": {
        "colab": {
          "base_uri": "https://localhost:8080/"
        },
        "id": "2cckl9Fz15iG",
        "outputId": "b34467bf-271f-4e83-acb9-77b832e5feaf"
      },
      "execution_count": null,
      "outputs": [
        {
          "output_type": "execute_result",
          "data": {
            "text/plain": [
              "{'name': 'umer', 'age': 20}"
            ]
          },
          "metadata": {},
          "execution_count": 11
        }
      ]
    },
    {
      "cell_type": "markdown",
      "source": [
        "- List\n",
        "    - Mutable\n",
        "    - Dynamic\n",
        "    - Order\n",
        "    - Indexed\n",
        "    - Allowed duplicate values\n",
        "    - Heterogeneous values"
      ],
      "metadata": {
        "id": "5Avjto4z3Gq8"
      }
    },
    {
      "cell_type": "markdown",
      "source": [
        "- Tuple\n",
        "  - Immutable\n",
        "  - Fixed\n",
        "  - Ordered\n",
        "  - Indexed\n",
        "  - Allowed duplicate values\n",
        "  - Heterogeneous"
      ],
      "metadata": {
        "id": "zPzw62jT3Yfw"
      }
    },
    {
      "cell_type": "code",
      "source": [
        "t = (1,2,3,3,\"Bilal\",True,12.33)\n",
        "t\n",
        "type(t)\n",
        "id(t)\n",
        "print(t)"
      ],
      "metadata": {
        "colab": {
          "base_uri": "https://localhost:8080/"
        },
        "id": "7pPDSzTa3-vP",
        "outputId": "4cea0e88-4499-4f65-d917-26121fb65338"
      },
      "execution_count": null,
      "outputs": [
        {
          "output_type": "stream",
          "name": "stdout",
          "text": [
            "(1, 2, 3, 3, 'Bilal', True, 12.33)\n"
          ]
        }
      ]
    },
    {
      "cell_type": "code",
      "source": [
        "t[4]"
      ],
      "metadata": {
        "colab": {
          "base_uri": "https://localhost:8080/",
          "height": 36
        },
        "id": "sNTS5Hjq4U8A",
        "outputId": "3d2aa526-dc2a-4e1c-bd9f-179c3c1384ec"
      },
      "execution_count": null,
      "outputs": [
        {
          "output_type": "execute_result",
          "data": {
            "text/plain": [
              "'Bilal'"
            ],
            "application/vnd.google.colaboratory.intrinsic+json": {
              "type": "string"
            }
          },
          "metadata": {},
          "execution_count": 17
        }
      ]
    },
    {
      "cell_type": "code",
      "source": [
        "len(t)"
      ],
      "metadata": {
        "colab": {
          "base_uri": "https://localhost:8080/"
        },
        "id": "GbONQO4o4H8u",
        "outputId": "4bddd9e7-0d1a-40bc-ba8a-c78042b9abd5"
      },
      "execution_count": null,
      "outputs": [
        {
          "output_type": "execute_result",
          "data": {
            "text/plain": [
              "7"
            ]
          },
          "metadata": {},
          "execution_count": 18
        }
      ]
    },
    {
      "cell_type": "code",
      "source": [
        "t[0]=10"
      ],
      "metadata": {
        "colab": {
          "base_uri": "https://localhost:8080/",
          "height": 141
        },
        "id": "IvfIU-M54eo3",
        "outputId": "1e45ac14-6769-4d98-c900-b0503e4bfdd0"
      },
      "execution_count": null,
      "outputs": [
        {
          "output_type": "error",
          "ename": "TypeError",
          "evalue": "'tuple' object does not support item assignment",
          "traceback": [
            "\u001b[0;31m---------------------------------------------------------------------------\u001b[0m",
            "\u001b[0;31mTypeError\u001b[0m                                 Traceback (most recent call last)",
            "\u001b[0;32m<ipython-input-20-03ac23426653>\u001b[0m in \u001b[0;36m<cell line: 0>\u001b[0;34m()\u001b[0m\n\u001b[0;32m----> 1\u001b[0;31m \u001b[0mt\u001b[0m\u001b[0;34m[\u001b[0m\u001b[0;36m0\u001b[0m\u001b[0;34m]\u001b[0m\u001b[0;34m=\u001b[0m\u001b[0;36m10\u001b[0m\u001b[0;34m\u001b[0m\u001b[0;34m\u001b[0m\u001b[0m\n\u001b[0m",
            "\u001b[0;31mTypeError\u001b[0m: 'tuple' object does not support item assignment"
          ]
        }
      ]
    },
    {
      "cell_type": "code",
      "source": [
        "t = (1,2,3,3,\"Bilal\",True,12.33)\n",
        "print(id(t))\n",
        "t = list(t)\n",
        "t.append(10)\n",
        "print(t)\n",
        "t = tuple(t)\n",
        "print(id(t))\n",
        "print(t)"
      ],
      "metadata": {
        "colab": {
          "base_uri": "https://localhost:8080/"
        },
        "id": "4pMJ0tPJ4zlq",
        "outputId": "e3f3e553-f2ea-4ce3-98c6-456a72b91f7c"
      },
      "execution_count": null,
      "outputs": [
        {
          "output_type": "stream",
          "name": "stdout",
          "text": [
            "135525616542592\n",
            "[1, 2, 3, 3, 'Bilal', True, 12.33, 10]\n",
            "135525618469680\n",
            "(1, 2, 3, 3, 'Bilal', True, 12.33, 10)\n"
          ]
        }
      ]
    },
    {
      "cell_type": "code",
      "source": [
        "t = (1,2,3,3,\"Bilal\",True,12.33,[1,2])\n",
        "print(id(t))\n",
        "t[7][0]=10\n",
        "print(id(t))\n",
        "print(t)"
      ],
      "metadata": {
        "colab": {
          "base_uri": "https://localhost:8080/"
        },
        "id": "Z4z4wRAi5jiR",
        "outputId": "8bb26508-cd59-4282-e469-24e7abb71e93"
      },
      "execution_count": null,
      "outputs": [
        {
          "output_type": "stream",
          "name": "stdout",
          "text": [
            "135525618469680\n",
            "135525618469680\n",
            "(1, 2, 3, 3, 'Bilal', True, 12.33, [10, 2])\n"
          ]
        }
      ]
    },
    {
      "cell_type": "code",
      "source": [
        "lst1=[1,2,3,4]\n",
        "a=1\n",
        "b=2\n",
        "c=3\n",
        "d=4\n",
        "print(id(lst1))\n",
        "print(id(lst1[0]))\n",
        "print(id(a))\n",
        "print(id(lst1[1]))\n",
        "print(id(b))\n",
        "print(id(lst1[2]))\n",
        "print(id(c))"
      ],
      "metadata": {
        "colab": {
          "base_uri": "https://localhost:8080/"
        },
        "id": "qH7jJXQ86eLD",
        "outputId": "a12f98f2-b32d-4a1c-9b12-a5de244f7d0f"
      },
      "execution_count": null,
      "outputs": [
        {
          "output_type": "stream",
          "name": "stdout",
          "text": [
            "132923817344704\n",
            "10750856\n",
            "10750856\n",
            "10750888\n",
            "10750888\n",
            "10750920\n",
            "10750920\n"
          ]
        }
      ]
    },
    {
      "cell_type": "code",
      "source": [
        "t = tuple([1,2,3,4])\n",
        "t"
      ],
      "metadata": {
        "colab": {
          "base_uri": "https://localhost:8080/"
        },
        "id": "JrSYWklj7zsE",
        "outputId": "7839b022-4448-47c8-a3dc-b6efd7388d29"
      },
      "execution_count": null,
      "outputs": [
        {
          "output_type": "execute_result",
          "data": {
            "text/plain": [
              "(1, 2, 3, 4)"
            ]
          },
          "metadata": {},
          "execution_count": 38
        }
      ]
    },
    {
      "cell_type": "code",
      "source": [
        "t[1:]"
      ],
      "metadata": {
        "colab": {
          "base_uri": "https://localhost:8080/"
        },
        "id": "527u_nd778pZ",
        "outputId": "45f21d55-21dd-41b2-82a2-4bbb53281a0a"
      },
      "execution_count": null,
      "outputs": [
        {
          "output_type": "execute_result",
          "data": {
            "text/plain": [
              "(2, 3, 4)"
            ]
          },
          "metadata": {},
          "execution_count": 39
        }
      ]
    },
    {
      "cell_type": "markdown",
      "source": [
        "sets\n",
        " - Mutable\n",
        " - Unordered\n",
        " - Un indexed\n",
        " - Don't support duplicate values\n",
        " - Heterogeneous\n",
        " - Can not store mutable data types"
      ],
      "metadata": {
        "id": "ObrFa4gm8Phz"
      }
    },
    {
      "cell_type": "code",
      "source": [
        "s={2,3,3,4,\"Bilal\",True}\n",
        "print(s)"
      ],
      "metadata": {
        "colab": {
          "base_uri": "https://localhost:8080/"
        },
        "id": "3lTRXAad82jJ",
        "outputId": "467acab0-b8a0-4d09-cef9-3a0de2f5cd34"
      },
      "execution_count": null,
      "outputs": [
        {
          "output_type": "stream",
          "name": "stdout",
          "text": [
            "{True, 2, 3, 4, 'Bilal'}\n"
          ]
        }
      ]
    },
    {
      "cell_type": "code",
      "source": [
        "s[0]"
      ],
      "metadata": {
        "colab": {
          "base_uri": "https://localhost:8080/",
          "height": 141
        },
        "id": "XhCaa7SD9vJc",
        "outputId": "9f9bc0e8-777b-45ab-9b6f-5e708a989bb9"
      },
      "execution_count": null,
      "outputs": [
        {
          "output_type": "error",
          "ename": "TypeError",
          "evalue": "'set' object is not subscriptable",
          "traceback": [
            "\u001b[0;31m---------------------------------------------------------------------------\u001b[0m",
            "\u001b[0;31mTypeError\u001b[0m                                 Traceback (most recent call last)",
            "\u001b[0;32m<ipython-input-45-c9c96910e542>\u001b[0m in \u001b[0;36m<cell line: 0>\u001b[0;34m()\u001b[0m\n\u001b[0;32m----> 1\u001b[0;31m \u001b[0ms\u001b[0m\u001b[0;34m[\u001b[0m\u001b[0;36m0\u001b[0m\u001b[0;34m]\u001b[0m\u001b[0;34m\u001b[0m\u001b[0;34m\u001b[0m\u001b[0m\n\u001b[0m",
            "\u001b[0;31mTypeError\u001b[0m: 'set' object is not subscriptable"
          ]
        }
      ]
    },
    {
      "cell_type": "code",
      "source": [
        "s={2,3,3,4,\"Bilal\",True,[1,2]}\n",
        "print(s)"
      ],
      "metadata": {
        "colab": {
          "base_uri": "https://localhost:8080/",
          "height": 158
        },
        "id": "p4guUA6f9_EE",
        "outputId": "81656afa-71b1-44f2-8c90-37aceb4956fa"
      },
      "execution_count": null,
      "outputs": [
        {
          "output_type": "error",
          "ename": "TypeError",
          "evalue": "unhashable type: 'list'",
          "traceback": [
            "\u001b[0;31m---------------------------------------------------------------------------\u001b[0m",
            "\u001b[0;31mTypeError\u001b[0m                                 Traceback (most recent call last)",
            "\u001b[0;32m<ipython-input-46-66c27a41b608>\u001b[0m in \u001b[0;36m<cell line: 0>\u001b[0;34m()\u001b[0m\n\u001b[0;32m----> 1\u001b[0;31m \u001b[0ms\u001b[0m\u001b[0;34m=\u001b[0m\u001b[0;34m{\u001b[0m\u001b[0;36m2\u001b[0m\u001b[0;34m,\u001b[0m\u001b[0;36m3\u001b[0m\u001b[0;34m,\u001b[0m\u001b[0;36m3\u001b[0m\u001b[0;34m,\u001b[0m\u001b[0;36m4\u001b[0m\u001b[0;34m,\u001b[0m\u001b[0;34m\"Bilal\"\u001b[0m\u001b[0;34m,\u001b[0m\u001b[0;32mTrue\u001b[0m\u001b[0;34m,\u001b[0m\u001b[0;34m[\u001b[0m\u001b[0;36m1\u001b[0m\u001b[0;34m,\u001b[0m\u001b[0;36m2\u001b[0m\u001b[0;34m]\u001b[0m\u001b[0;34m}\u001b[0m\u001b[0;34m\u001b[0m\u001b[0;34m\u001b[0m\u001b[0m\n\u001b[0m\u001b[1;32m      2\u001b[0m \u001b[0mprint\u001b[0m\u001b[0;34m(\u001b[0m\u001b[0ms\u001b[0m\u001b[0;34m)\u001b[0m\u001b[0;34m\u001b[0m\u001b[0;34m\u001b[0m\u001b[0m\n",
            "\u001b[0;31mTypeError\u001b[0m: unhashable type: 'list'"
          ]
        }
      ]
    },
    {
      "cell_type": "code",
      "source": [
        "s={2,3,3,4,\"Bilal\",True}\n",
        "s.add(5)\n",
        "print(s)"
      ],
      "metadata": {
        "colab": {
          "base_uri": "https://localhost:8080/"
        },
        "id": "73_-8wMq-HcG",
        "outputId": "34510f98-4832-48d8-acec-876e8104b8e1"
      },
      "execution_count": null,
      "outputs": [
        {
          "output_type": "stream",
          "name": "stdout",
          "text": [
            "{True, 2, 3, 4, 'Bilal', 5}\n"
          ]
        }
      ]
    },
    {
      "cell_type": "code",
      "source": [
        "s1={1,2,3,5,6,\"Bilal\"}\n",
        "s2={4,5,3,7,\"Bilal\"}\n",
        "print(s1.difference(s2))\n",
        "print(s1-s2)\n",
        "s1"
      ],
      "metadata": {
        "colab": {
          "base_uri": "https://localhost:8080/"
        },
        "id": "CZIrGLNO-35D",
        "outputId": "129660b6-7dfa-4eb5-e71b-4e3899c7d17f"
      },
      "execution_count": null,
      "outputs": [
        {
          "output_type": "stream",
          "name": "stdout",
          "text": [
            "{1, 2, 6}\n",
            "{1, 2, 6}\n"
          ]
        },
        {
          "output_type": "execute_result",
          "data": {
            "text/plain": [
              "{1, 2, 3, 5, 6, 'Bilal'}"
            ]
          },
          "metadata": {},
          "execution_count": 53
        }
      ]
    },
    {
      "cell_type": "code",
      "source": [
        "s1={1,2,3,5,6,\"Bilal\"}\n",
        "s2={4,5,3,7,\"Bilal\"}\n",
        "s1.difference_update(s2)\n",
        "print(s1)"
      ],
      "metadata": {
        "colab": {
          "base_uri": "https://localhost:8080/"
        },
        "id": "sYSrlS_B_mNj",
        "outputId": "1e8c799d-5a94-493b-fe5a-e9112da40ab2"
      },
      "execution_count": null,
      "outputs": [
        {
          "output_type": "stream",
          "name": "stdout",
          "text": [
            "{1, 2, 6}\n"
          ]
        }
      ]
    },
    {
      "cell_type": "code",
      "source": [
        "s1={1,2,3,5,6,\"Bilal\"}\n",
        "s2={4,5,3,7,\"Bilal\"}\n",
        "s1.discard(31)\n",
        "s1.remove(51)\n",
        "print(s1)"
      ],
      "metadata": {
        "colab": {
          "base_uri": "https://localhost:8080/",
          "height": 193
        },
        "id": "QnmBRrG2_4NX",
        "outputId": "a8840c8f-850b-4334-d58c-7e4cf858a10c"
      },
      "execution_count": null,
      "outputs": [
        {
          "output_type": "error",
          "ename": "KeyError",
          "evalue": "51",
          "traceback": [
            "\u001b[0;31m---------------------------------------------------------------------------\u001b[0m",
            "\u001b[0;31mKeyError\u001b[0m                                  Traceback (most recent call last)",
            "\u001b[0;32m<ipython-input-59-118f98af86a5>\u001b[0m in \u001b[0;36m<cell line: 0>\u001b[0;34m()\u001b[0m\n\u001b[1;32m      2\u001b[0m \u001b[0ms2\u001b[0m\u001b[0;34m=\u001b[0m\u001b[0;34m{\u001b[0m\u001b[0;36m4\u001b[0m\u001b[0;34m,\u001b[0m\u001b[0;36m5\u001b[0m\u001b[0;34m,\u001b[0m\u001b[0;36m3\u001b[0m\u001b[0;34m,\u001b[0m\u001b[0;36m7\u001b[0m\u001b[0;34m,\u001b[0m\u001b[0;34m\"Bilal\"\u001b[0m\u001b[0;34m}\u001b[0m\u001b[0;34m\u001b[0m\u001b[0;34m\u001b[0m\u001b[0m\n\u001b[1;32m      3\u001b[0m \u001b[0ms1\u001b[0m\u001b[0;34m.\u001b[0m\u001b[0mdiscard\u001b[0m\u001b[0;34m(\u001b[0m\u001b[0;36m31\u001b[0m\u001b[0;34m)\u001b[0m\u001b[0;34m\u001b[0m\u001b[0;34m\u001b[0m\u001b[0m\n\u001b[0;32m----> 4\u001b[0;31m \u001b[0ms1\u001b[0m\u001b[0;34m.\u001b[0m\u001b[0mremove\u001b[0m\u001b[0;34m(\u001b[0m\u001b[0;36m51\u001b[0m\u001b[0;34m)\u001b[0m\u001b[0;34m\u001b[0m\u001b[0;34m\u001b[0m\u001b[0m\n\u001b[0m\u001b[1;32m      5\u001b[0m \u001b[0mprint\u001b[0m\u001b[0;34m(\u001b[0m\u001b[0ms1\u001b[0m\u001b[0;34m)\u001b[0m\u001b[0;34m\u001b[0m\u001b[0;34m\u001b[0m\u001b[0m\n",
            "\u001b[0;31mKeyError\u001b[0m: 51"
          ]
        }
      ]
    },
    {
      "cell_type": "code",
      "source": [
        "s1={1,2,3,5,6,\"Bilal\"}\n",
        "s2={4,5,3,7,\"Bilal\"}\n",
        "s1.intersection(s2)\n",
        "print(s1.pop())\n",
        "lst=[1,2,3,4]\n",
        "lst.pop(2)\n",
        "lst"
      ],
      "metadata": {
        "colab": {
          "base_uri": "https://localhost:8080/"
        },
        "id": "28_yxTdcAR0G",
        "outputId": "aa7cc251-77aa-47af-c8d1-e836a8c8b680"
      },
      "execution_count": null,
      "outputs": [
        {
          "output_type": "stream",
          "name": "stdout",
          "text": [
            "1\n"
          ]
        },
        {
          "output_type": "execute_result",
          "data": {
            "text/plain": [
              "[1, 2, 4]"
            ]
          },
          "metadata": {},
          "execution_count": 62
        }
      ]
    },
    {
      "cell_type": "code",
      "source": [
        "s1={1,2,3,5,6,\"Bilal\"}\n",
        "s2={4,5,3,7,\"Bilal\"}\n",
        "s1.union(s2)"
      ],
      "metadata": {
        "colab": {
          "base_uri": "https://localhost:8080/"
        },
        "id": "0kdHi-UsAxXw",
        "outputId": "0f45c629-981c-48d6-e143-99d2593b801f"
      },
      "execution_count": null,
      "outputs": [
        {
          "output_type": "execute_result",
          "data": {
            "text/plain": [
              "{1, 2, 3, 4, 5, 6, 7, 'Bilal'}"
            ]
          },
          "metadata": {},
          "execution_count": 63
        }
      ]
    },
    {
      "cell_type": "code",
      "source": [
        "s1={1,2,3,5,6,\"Bilal\"}\n",
        "s2={4,5,3,7,\"Bilal\"}\n",
        "s1|s2"
      ],
      "metadata": {
        "colab": {
          "base_uri": "https://localhost:8080/"
        },
        "id": "CZDV_5rLA9fZ",
        "outputId": "b1313316-165e-4acb-e919-6d18c724cae9"
      },
      "execution_count": null,
      "outputs": [
        {
          "output_type": "execute_result",
          "data": {
            "text/plain": [
              "{1, 2, 3, 4, 5, 6, 7, 'Bilal'}"
            ]
          },
          "metadata": {},
          "execution_count": 64
        }
      ]
    },
    {
      "cell_type": "code",
      "source": [
        "s1={1,2,3,5,6,\"Bilal\"}\n",
        "s2={4,5,3,7,\"Bilal\"}\n",
        "\n",
        "print(s1.symmetric_difference(s2))\n",
        "print(s1^s2)"
      ],
      "metadata": {
        "colab": {
          "base_uri": "https://localhost:8080/"
        },
        "id": "qtbmq78QBAxx",
        "outputId": "e6f88d3b-7b40-4e5c-a3ef-a0ede3848f05"
      },
      "execution_count": null,
      "outputs": [
        {
          "output_type": "stream",
          "name": "stdout",
          "text": [
            "{1, 4, 2, 7, 6}\n",
            "{1, 4, 2, 7, 6}\n"
          ]
        }
      ]
    },
    {
      "cell_type": "code",
      "source": [
        "fs = frozenset({1,2,2,3,4})"
      ],
      "metadata": {
        "id": "dBH2zen4Bah9"
      },
      "execution_count": null,
      "outputs": []
    },
    {
      "cell_type": "code",
      "source": [
        "name=\"bilal\"\n",
        "print((name+\" \")*5)"
      ],
      "metadata": {
        "colab": {
          "base_uri": "https://localhost:8080/"
        },
        "id": "uC8-gDSGB1Sl",
        "outputId": "27434daf-1550-4fc1-a95b-019980ca9fdd"
      },
      "execution_count": null,
      "outputs": [
        {
          "output_type": "stream",
          "name": "stdout",
          "text": [
            "bilal bilal bilal bilal bilal \n"
          ]
        }
      ]
    },
    {
      "cell_type": "code",
      "source": [
        "for i in range(1,5):\n",
        "  print(\"*\"*i)"
      ],
      "metadata": {
        "colab": {
          "base_uri": "https://localhost:8080/"
        },
        "id": "CSDytYZmCGxL",
        "outputId": "d4e53f4f-73b5-49b4-cf6a-4390a441f61e"
      },
      "execution_count": null,
      "outputs": [
        {
          "output_type": "stream",
          "name": "stdout",
          "text": [
            "*\n",
            "**\n",
            "***\n",
            "****\n"
          ]
        }
      ]
    },
    {
      "cell_type": "code",
      "source": [
        "lst=[1,2,3]\n",
        "print(lst*3)"
      ],
      "metadata": {
        "colab": {
          "base_uri": "https://localhost:8080/"
        },
        "id": "Amd_Poh9CXdj",
        "outputId": "3ef4841b-68f1-41d6-a5b6-ba55f3b0ec8f"
      },
      "execution_count": null,
      "outputs": [
        {
          "output_type": "stream",
          "name": "stdout",
          "text": [
            "[1, 2, 3, 1, 2, 3, 1, 2, 3]\n"
          ]
        }
      ]
    },
    {
      "cell_type": "code",
      "source": [
        "a = True\n",
        "a = [1,2,3]\n",
        "a = {'a':1}\n",
        "a = \"adfad\"\n",
        "a = 12\n",
        "\n",
        "a = False\n",
        "a = []\n",
        "a = {}\n",
        "a = 0\n",
        "a = \"\"\n",
        "a = None\n",
        "\n",
        "if a:\n",
        "  print(\"yes\")\n",
        "else:\n",
        "  print(\"no\")"
      ],
      "metadata": {
        "colab": {
          "base_uri": "https://localhost:8080/"
        },
        "id": "5rzPx-xJBoP2",
        "outputId": "6cbf401f-14e7-40cd-fa0a-13b5c2cf38bf"
      },
      "execution_count": null,
      "outputs": [
        {
          "output_type": "stream",
          "name": "stdout",
          "text": [
            "no\n"
          ]
        }
      ]
    },
    {
      "cell_type": "code",
      "source": [
        "def my_func(name,age):\n",
        "  return f\"hello my dear {name}, his age is {age}\"\n",
        "\n",
        "print(my_func(\"gulazari\",70))"
      ],
      "metadata": {
        "colab": {
          "base_uri": "https://localhost:8080/"
        },
        "id": "8AXUWh8lDu1R",
        "outputId": "fdd42dee-a966-41b7-c5ae-3c3f61723bec"
      },
      "execution_count": null,
      "outputs": [
        {
          "output_type": "stream",
          "name": "stdout",
          "text": [
            "hello my dear gulazari, his age is 70\n"
          ]
        }
      ]
    },
    {
      "cell_type": "code",
      "source": [
        "def my_func(*keyword):\n",
        "  print(keyword)\n",
        "\n",
        "my_func()"
      ],
      "metadata": {
        "colab": {
          "base_uri": "https://localhost:8080/"
        },
        "id": "SdqsyrDyGgOF",
        "outputId": "5b4db750-0a06-41d6-bd70-c1888baa7279"
      },
      "execution_count": null,
      "outputs": [
        {
          "output_type": "stream",
          "name": "stdout",
          "text": [
            "()\n"
          ]
        }
      ]
    },
    {
      "cell_type": "code",
      "source": [
        "def my_func(*keyword,name):\n",
        "  print(name)\n",
        "\n",
        "  print(keyword)\n",
        "\n",
        "my_func(\"ratan\",\"chaman\",name=\"gulzari\")"
      ],
      "metadata": {
        "colab": {
          "base_uri": "https://localhost:8080/"
        },
        "id": "syEqS1UjHzaU",
        "outputId": "5501202d-58d2-409e-e746-96702cea9ac6"
      },
      "execution_count": null,
      "outputs": [
        {
          "output_type": "stream",
          "name": "stdout",
          "text": [
            "gulzari\n",
            "('ratan', 'chaman')\n"
          ]
        }
      ]
    },
    {
      "cell_type": "code",
      "source": [
        "def my_func(**keyword):\n",
        "  print(keyword)\n",
        "\n",
        "my_func(name=\"kunj bihari\",age=70)"
      ],
      "metadata": {
        "colab": {
          "base_uri": "https://localhost:8080/"
        },
        "id": "gYNaKkw3IBSS",
        "outputId": "708f84bf-949e-4430-b47e-0540c0739d3d"
      },
      "execution_count": null,
      "outputs": [
        {
          "output_type": "stream",
          "name": "stdout",
          "text": [
            "{'name': 'kunj bihari', 'age': 70}\n"
          ]
        }
      ]
    }
  ]
}