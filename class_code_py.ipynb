{
  "nbformat": 4,
  "nbformat_minor": 0,
  "metadata": {
    "colab": {
      "provenance": [],
      "authorship_tag": "ABX9TyOBWeZeGNeieY1kGRPFO4IE",
      "include_colab_link": true
    },
    "kernelspec": {
      "name": "python3",
      "display_name": "Python 3"
    },
    "language_info": {
      "name": "python"
    }
  },
  "cells": [
    {
      "cell_type": "markdown",
      "metadata": {
        "id": "view-in-github",
        "colab_type": "text"
      },
      "source": [
        "<a href=\"https://colab.research.google.com/github/ShaziaOngit/Hackathon/blob/main/class_code_py.ipynb\" target=\"_parent\"><img src=\"https://colab.research.google.com/assets/colab-badge.svg\" alt=\"Open In Colab\"/></a>"
      ]
    },
    {
      "cell_type": "code",
      "source": [
        "# .todo: Explore the dataset further.\n",
        "# .todo: Implement a machine learning model."
      ],
      "metadata": {
        "id": "gR4r_0RjmWsy"
      },
      "execution_count": 3,
      "outputs": []
    },
    {
      "cell_type": "code",
      "source": [
        "print(\"hello Shazia\")\n",
        "print(\"i am student of giaic...\")"
      ],
      "metadata": {
        "colab": {
          "base_uri": "https://localhost:8080/"
        },
        "id": "GHJO0HlCnd53",
        "outputId": "1a9d0721-8cda-47bd-f32d-55a62da4c3e2"
      },
      "execution_count": 9,
      "outputs": [
        {
          "output_type": "stream",
          "name": "stdout",
          "text": [
            "hello Shazia\n",
            "i am student of giaic...\n"
          ]
        }
      ]
    },
    {
      "cell_type": "code",
      "source": [
        "print(\"Hello \\\"Shaia how are you...\")\n",
        "print(\"hello \\\"Shazai Hello \\\"Sannan\\\"  how are you...\")\n",
        "print(\"hello \\\"Rabia\\\"\")"
      ],
      "metadata": {
        "colab": {
          "base_uri": "https://localhost:8080/"
        },
        "id": "iDUSVE2NoYWN",
        "outputId": "f9832eae-d1a5-4cf1-e5b3-b9cc9cdc370f"
      },
      "execution_count": 10,
      "outputs": [
        {
          "output_type": "stream",
          "name": "stdout",
          "text": [
            "Hello \"Shaia how are you...\n",
            "hello \"Shazai Hello \"Sannan\"  how are you...\n",
            "hello \"Rabia\"\n"
          ]
        }
      ]
    },
    {
      "cell_type": "code",
      "source": [
        "print(\"Hello \\\"Shazia\\\" how are you...\")\n",
        "print(\"hello \\\"Shazia\\\" Hello \\\"Sannan\\\" how are you...\")\n",
        "print(\"hello \\\"Rabia\\\"\")"
      ],
      "metadata": {
        "colab": {
          "base_uri": "https://localhost:8080/"
        },
        "id": "S3blR_KTozBN",
        "outputId": "5616a83f-6b5e-4327-d0a9-f998927061d6"
      },
      "execution_count": 11,
      "outputs": [
        {
          "output_type": "stream",
          "name": "stdout",
          "text": [
            "Hello \"Shazia\" how are you...\n",
            "hello \"Shazia\" Hello \"Sannan\" how are you...\n",
            "hello \"Rabia\"\n"
          ]
        }
      ]
    },
    {
      "cell_type": "code",
      "source": [
        "print(\"I am student...\")"
      ],
      "metadata": {
        "colab": {
          "base_uri": "https://localhost:8080/"
        },
        "id": "WjypMvWvqQN1",
        "outputId": "5792b8d4-67d9-41fd-8c03-a15f8672b409"
      },
      "execution_count": 15,
      "outputs": [
        {
          "output_type": "stream",
          "name": "stdout",
          "text": [
            "I am student...\n"
          ]
        }
      ]
    },
    {
      "cell_type": "code",
      "source": [
        "\n",
        "\n",
        "try:\n",
        "    num1 = int(input(\"10 : \"))\n",
        "    num2 = int(input(\"20 : \"))\n",
        "    if num1 < 0 or num2 < 0:\n",
        "        raise Exception(\"Negative numbers are not allowed\")\n",
        "    if num1 == 10:\n",
        "        raise Exception(\"Testing\")\n",
        "    a = int(num1) / int(num2)\n",
        "    print(a)\n",
        "except Exception as e:\n",
        "    print(e)\n",
        "else:\n",
        "    print(\"code executed successfully\")\n",
        "finally:\n",
        "    print(\"code completed\")\n",
        "dc = {\"name\": \"Jamal\", \"age\": 20, \"email\": \"Shazia20k@gmail\"}\n",
        "\n",
        "\n",
        "\n",
        "try:\n",
        "    num1 = int(input(\"Enter first number : \"))\n",
        "    num2 = int(input(\"Enter second number : \"))\n",
        "    if num1 < 0 or num2 < 0:\n",
        "        raise Exception(\"Negative numbers are not allowed\")\n",
        "    if num1 == 10:\n",
        "        raise Exception(\"Testing\")\n",
        "    a = int(num1) / int(num2)\n",
        "    print(a)\n",
        "except Exception as e:\n",
        "    print(e)\n",
        "else:\n",
        "    print(\"code executed successfully\")\n",
        "finally:\n",
        "    print(\"code completed\")"
      ],
      "metadata": {
        "colab": {
          "base_uri": "https://localhost:8080/"
        },
        "id": "aXlaYrj3rV2g",
        "outputId": "c2944dfb-bfb3-473c-ebf8-7f142db32b5b"
      },
      "execution_count": 16,
      "outputs": [
        {
          "output_type": "stream",
          "name": "stdout",
          "text": [
            "Enter first number : 15\n",
            "Enter second number : 18\n",
            "0.8333333333333334\n",
            "code executed successfully\n",
            "code completed\n",
            "Enter first number : 15\n",
            "Enter second number : 18\n",
            "0.8333333333333334\n",
            "code executed successfully\n",
            "code completed\n"
          ]
        }
      ]
    },
    {
      "cell_type": "code",
      "source": [
        "# Original print statements remain unchanged\n",
        "print(\"hello Shazia\")\n",
        "print(\"i am student of giaic...\")\n",
        "print(\"Hello \\\"Shaia how are you...\")\n",
        "print(\"hello \\\"Shazai Hello \\\"Sannan\\\"  how are you...\")\n",
        "print(\"hello \\\"Rabia\\\"\")\n",
        "print(\"Hello \\\"Shazia\\\" how are you...\")\n",
        "print(\"hello \\\"Shazia\\\" Hello \\\"Sannan\\\" how are you...\")\n",
        "print(\"hello \\\"Rabia\\\"\")\n",
        "print(\"I am student...\")\n",
        "\n",
        "# ... (Other code related to dc dictionary and try-except blocks) ...\n",
        "\n",
        "\n",
        "# File handling section with corrections:\n",
        "def write_to_file(filename, content, mode=\"w\"):\n",
        "    try:\n",
        "        with open(filename, mode) as f:\n",
        "            f.write(content)\n",
        "    except IOError as e:\n",
        "        print(f\"An error occurred while writing to {filename}: {e}\")\n",
        "\n",
        "def read_from_file(filename):\n",
        "    try:\n",
        "        with open(filename, \"r\") as f:\n",
        "            content = f.read()\n",
        "            print(content)\n",
        "    except IOError as e:\n",
        "        print(f\"An error occurred while reading {filename}: {e}\")\n",
        "\n",
        "# Example usage:\n",
        "write_to_file(\"a.txt\", \"hello sir bilal\\ni am student of giaic...\")\n",
        "read_from_file(\"a.txt\")\n",
        "\n",
        "# Other commented-out file operations can be adapted similarly"
      ],
      "metadata": {
        "colab": {
          "base_uri": "https://localhost:8080/"
        },
        "id": "8SrG04S1w0_O",
        "outputId": "f0360f76-1711-4c56-dead-18f1997915ae"
      },
      "execution_count": 23,
      "outputs": [
        {
          "output_type": "stream",
          "name": "stdout",
          "text": [
            "hello Shazia\n",
            "i am student of giaic...\n",
            "Hello \"Shaia how are you...\n",
            "hello \"Shazai Hello \"Sannan\"  how are you...\n",
            "hello \"Rabia\"\n",
            "Hello \"Shazia\" how are you...\n",
            "hello \"Shazia\" Hello \"Sannan\" how are you...\n",
            "hello \"Rabia\"\n",
            "I am student...\n",
            "hello sir bilal\n",
            "i am student of giaic...\n"
          ]
        }
      ]
    },
    {
      "cell_type": "code",
      "source": [
        "\n",
        " def mysum(a:int, b:int=1):\n",
        " return a+b\n",
        "\n",
        "print(mysum(10,3))\n",
        "\n",
        "=============================================================\n",
        "\n",
        "mysum = lambda x, y: x + y\n",
        "print(mysum(10, 2))\n",
        "\n",
        "=============================================================\n",
        "\n",
        " lst1 = [(\"Sannan\", 4), (\"Motashim\", 1), (\"Zia\", 3)]\n",
        "lst1.sort(key=lambda x: x[1])\n",
        "print(lst1)\n",
        "\n",
        "=============================================================\n",
        "\n",
        "lst1 = [(\"Sannan\", 4), (\"Motashim\", 1), (\"Zia\", 3)]\n",
        "lst1.sort(key=lambda x: len(x[0]))\n",
        "print(lst1)\n",
        "\n",
        "=============================================================\n",
        "\n",
        " def counter(x):\n",
        "print(x)\n",
        " if x <= 0:\n",
        " return True\n",
        " counter(x - 2)\n",
        " x = 3\n",
        " counter(2)\n",
        "counter(1)\n",
        "counter(0)\n",
        " counter(10)\n",
        "\n",
        "=============================================================\n",
        "\n",
        " def counter(x):\n",
        " for i in range(x,0,-1):\n",
        " print(i)\n",
        " counter(10)"
      ],
      "metadata": {
        "id": "jaHSMZc9yLOA"
      },
      "execution_count": null,
      "outputs": []
    },
    {
      "cell_type": "code",
      "source": [
        "def mysum(a:int, b:int=1):\n",
        "    return a+b\n",
        "\n",
        "print(mysum(10,3))"
      ],
      "metadata": {
        "colab": {
          "base_uri": "https://localhost:8080/"
        },
        "id": "W7t68D2jyyWd",
        "outputId": "9a1c4725-76ec-4b6f-da3f-21d3eb8f20d1"
      },
      "execution_count": 25,
      "outputs": [
        {
          "output_type": "stream",
          "name": "stdout",
          "text": [
            "13\n"
          ]
        }
      ]
    },
    {
      "cell_type": "code",
      "source": [
        "mysum = lambda x, y: x + y\n",
        "print(mysum(10, 2))"
      ],
      "metadata": {
        "colab": {
          "base_uri": "https://localhost:8080/"
        },
        "id": "Biu_prO1y5vi",
        "outputId": "6c6d0cad-de72-456a-b818-15fec50cc976"
      },
      "execution_count": 26,
      "outputs": [
        {
          "output_type": "stream",
          "name": "stdout",
          "text": [
            "12\n"
          ]
        }
      ]
    },
    {
      "cell_type": "code",
      "source": [
        "lst1 = [(\"Sannan\", 4), (\"Motashim\", 1), (\"Zia\", 3)]\n",
        "lst1.sort(key=lambda x: x[1])\n",
        "print(lst1)"
      ],
      "metadata": {
        "colab": {
          "base_uri": "https://localhost:8080/"
        },
        "id": "7IlFCXENy-oM",
        "outputId": "9fccc694-2361-4309-988d-9f4529bc6692"
      },
      "execution_count": 27,
      "outputs": [
        {
          "output_type": "stream",
          "name": "stdout",
          "text": [
            "[('Motashim', 1), ('Zia', 3), ('Sannan', 4)]\n"
          ]
        }
      ]
    },
    {
      "cell_type": "code",
      "source": [
        "lst1 = [(\"Sannan\", 4), (\"Motashim\", 1), (\"Zia\", 3)]\n",
        "lst1.sort(key=lambda x: len(x[0]))\n",
        "print(lst1)"
      ],
      "metadata": {
        "colab": {
          "base_uri": "https://localhost:8080/"
        },
        "id": "18-DrjLtzENw",
        "outputId": "2a2fb580-e674-46c0-b5cf-dfde29c4730d"
      },
      "execution_count": 28,
      "outputs": [
        {
          "output_type": "stream",
          "name": "stdout",
          "text": [
            "[('Zia', 3), ('Sannan', 4), ('Motashim', 1)]\n"
          ]
        }
      ]
    },
    {
      "cell_type": "code",
      "source": [
        "def counter(x):\n",
        "    print(x)\n",
        "    if x <= 0:\n",
        "        return True\n",
        "    counter(x - 2)\n",
        "x = 3\n",
        "counter(2)\n",
        "counter(1)\n",
        "counter(0)\n",
        "counter(10)"
      ],
      "metadata": {
        "colab": {
          "base_uri": "https://localhost:8080/"
        },
        "id": "CQikVKepzMbY",
        "outputId": "6d114a6d-61f6-4a86-a806-58975cb7fd0b"
      },
      "execution_count": 29,
      "outputs": [
        {
          "output_type": "stream",
          "name": "stdout",
          "text": [
            "2\n",
            "0\n",
            "1\n",
            "-1\n",
            "0\n",
            "10\n",
            "8\n",
            "6\n",
            "4\n",
            "2\n",
            "0\n"
          ]
        }
      ]
    },
    {
      "cell_type": "code",
      "source": [
        "def counter(x):\n",
        "    for i in range(x,0,-1):\n",
        "        print(i)\n",
        "counter(10)"
      ],
      "metadata": {
        "colab": {
          "base_uri": "https://localhost:8080/"
        },
        "id": "iPnMgC2PzRUJ",
        "outputId": "f9ce9892-637e-4757-8344-59470fdebaaa"
      },
      "execution_count": 30,
      "outputs": [
        {
          "output_type": "stream",
          "name": "stdout",
          "text": [
            "10\n",
            "9\n",
            "8\n",
            "7\n",
            "6\n",
            "5\n",
            "4\n",
            "3\n",
            "2\n",
            "1\n"
          ]
        }
      ]
    }
  ]
}