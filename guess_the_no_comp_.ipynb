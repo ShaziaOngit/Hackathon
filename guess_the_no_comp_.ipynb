{
  "nbformat": 4,
  "nbformat_minor": 0,
  "metadata": {
    "colab": {
      "provenance": [],
      "authorship_tag": "ABX9TyNYNstmMT1D8t5r2iDiVFVS",
      "include_colab_link": true
    },
    "kernelspec": {
      "name": "python3",
      "display_name": "Python 3"
    },
    "language_info": {
      "name": "python"
    }
  },
  "cells": [
    {
      "cell_type": "markdown",
      "metadata": {
        "id": "view-in-github",
        "colab_type": "text"
      },
      "source": [
        "<a href=\"https://colab.research.google.com/github/ShaziaOngit/Hackathon/blob/main/guess_the_no_comp_.ipynb\" target=\"_parent\"><img src=\"https://colab.research.google.com/assets/colab-badge.svg\" alt=\"Open In Colab\"/></a>"
      ]
    },
    {
      "cell_type": "code",
      "execution_count": null,
      "metadata": {
        "id": "7z0cMn--8cU4"
      },
      "outputs": [],
      "source": []
    },
    {
      "cell_type": "code",
      "source": [
        "\n",
        "\n",
        "import random\n",
        "\n",
        "def guess_the_number():\n",
        "    number_to_guess = random.randint(1, 10)\n",
        "    attempts = 0\n",
        "\n",
        "    print(\"I'm thinking of a number between 1 and 10. Can you guess it?\")\n",
        "\n",
        "    while True:\n",
        "        try:\n",
        "            guess = int(input(\"Enter your guess: \"))\n",
        "            attempts += 1\n",
        "\n",
        "            if guess < number_to_guess:\n",
        "                print(\"Too low!\")\n",
        "            elif guess > number_to_guess:\n",
        "                print(\"Too high!\")\n",
        "            else:\n",
        "                print(f\"Correct! The number was {number_to_guess}. You guessed it in {attempts} tries.\")\n",
        "                break\n",
        "        except ValueError:\n",
        "            print(\"Please enter a valid number.\")\n",
        "\n",
        "if __name__ == \"__main__\":\n",
        "    guess_the_number()"
      ],
      "metadata": {
        "colab": {
          "base_uri": "https://localhost:8080/"
        },
        "id": "kWaxrB253zkw",
        "outputId": "502ce07b-fd92-49f9-f65d-c000d04e8d63"
      },
      "execution_count": null,
      "outputs": [
        {
          "output_type": "stream",
          "name": "stdout",
          "text": [
            "I'm thinking of a number between 1 and 10. Can you guess it?\n",
            "Enter your guess: 5\n",
            "Too high!\n",
            "Enter your guess: 3\n",
            "Too high!\n",
            "Enter your guess: 6\n",
            "Too high!\n",
            "Enter your guess: 7\n",
            "Too high!\n",
            "Enter your guess: 4\n",
            "Too high!\n",
            "Enter your guess: 8\n",
            "Too high!\n",
            "Enter your guess: 9\n",
            "Too high!\n",
            "Enter your guess: 2\n",
            "Correct! The number was 2. You guessed it in 8 tries.\n"
          ]
        }
      ]
    }
  ]
}