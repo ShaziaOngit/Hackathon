{
  "cells": [
    {
      "cell_type": "markdown",
      "metadata": {
        "id": "view-in-github",
        "colab_type": "text"
      },
      "source": [
        "<a href=\"https://colab.research.google.com/github/ShaziaOngit/Hackathon/blob/main/list_in_py.ipynb\" target=\"_parent\"><img src=\"https://colab.research.google.com/assets/colab-badge.svg\" alt=\"Open In Colab\"/></a>"
      ]
    },
    {
      "cell_type": "code",
      "execution_count": null,
      "metadata": {
        "id": "Sbk0Dd1V7BFs"
      },
      "outputs": [],
      "source": []
    },
    {
      "cell_type": "code",
      "execution_count": null,
      "metadata": {
        "colab": {
          "base_uri": "https://localhost:8080/"
        },
        "id": "mQhwnZRhvn1_",
        "outputId": "d4926f96-3376-4502-87f9-27ff0e24630f"
      },
      "outputs": [
        {
          "name": "stdout",
          "output_type": "stream",
          "text": [
            "['Shoaib', 'Rabia', 50, True]\n"
          ]
        }
      ],
      "source": [
        "a=[\"Shoaib\",\"Rabia\",50,True]\n",
        "print(a)"
      ]
    },
    {
      "cell_type": "code",
      "execution_count": null,
      "metadata": {
        "id": "7XpNq9bcvL8g"
      },
      "outputs": [],
      "source": [
        "# index:\n",
        "#   0   1   2   3   4   5\n",
        "a=[\"a\",\"b\",\"c\",\"d\",\"e\",\"f\"]\n",
        "#   -6  -5  -4  -3  -2  -1\n",
        "#print(len(a))\n",
        "#print(type(a))\n",
        " #print(a[2])\n",
        "# print(a[3])"
      ]
    },
    {
      "cell_type": "code",
      "execution_count": null,
      "metadata": {
        "colab": {
          "base_uri": "https://localhost:8080/"
        },
        "id": "nYgShBNUybPr",
        "outputId": "29697f7e-4242-41eb-a13e-f77f7c764d6c"
      },
      "outputs": [
        {
          "name": "stdout",
          "output_type": "stream",
          "text": [
            "['b', 'c', 'd']\n"
          ]
        }
      ],
      "source": [
        "# negetive index:\n",
        "print(a[-5:-2])"
      ]
    },
    {
      "cell_type": "code",
      "execution_count": null,
      "metadata": {
        "colab": {
          "base_uri": "https://localhost:8080/"
        },
        "id": "TKgMA_uJ4Zoi",
        "outputId": "16e7702f-eb5c-48ad-89f3-7e45e8146883"
      },
      "outputs": [
        {
          "name": "stdout",
          "output_type": "stream",
          "text": [
            "['a', 'b', 'c', 'd']\n"
          ]
        }
      ],
      "source": [
        "print(a[0:4])"
      ]
    },
    {
      "cell_type": "code",
      "execution_count": null,
      "metadata": {
        "colab": {
          "base_uri": "https://localhost:8080/"
        },
        "id": "ejsGmMO47Eqt",
        "outputId": "2c653a7a-ca8b-4529-aabb-27136117a218"
      },
      "outputs": [
        {
          "name": "stdout",
          "output_type": "stream",
          "text": [
            "['a', 'z', 'c', 'd', 'e', 'f']\n"
          ]
        }
      ],
      "source": [
        "a[1]=\"z\"\n",
        "print(a)"
      ]
    },
    {
      "cell_type": "code",
      "execution_count": null,
      "metadata": {
        "colab": {
          "background_save": true,
          "base_uri": "https://localhost:8080/"
        },
        "id": "yDDwQH2v8Drf",
        "outputId": "f429a101-9cf5-4d6d-bfec-1144f063da48"
      },
      "outputs": [
        {
          "name": "stdout",
          "output_type": "stream",
          "text": [
            "['a', 'Shoaib', 50, 50, 50, 50, 'c', 'd', 'e', 'f']\n"
          ]
        }
      ],
      "source": [
        "a[1:2]= [\"Shoaib\",50]\n",
        "print(a)"
      ]
    },
    {
      "cell_type": "code",
      "execution_count": null,
      "metadata": {
        "id": "0kHe-TuG8Ckk"
      },
      "outputs": [],
      "source": []
    },
    {
      "cell_type": "markdown",
      "metadata": {
        "id": "RO86K3qb7EOt"
      },
      "source": []
    }
  ],
  "metadata": {
    "colab": {
      "provenance": [],
      "authorship_tag": "ABX9TyMz6A7uodZ2ibF2bW2ZN3v4",
      "include_colab_link": true
    },
    "kernelspec": {
      "display_name": "Python 3",
      "name": "python3"
    },
    "language_info": {
      "name": "python"
    }
  },
  "nbformat": 4,
  "nbformat_minor": 0
}