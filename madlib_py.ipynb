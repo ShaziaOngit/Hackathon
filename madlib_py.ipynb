{
  "nbformat": 4,
  "nbformat_minor": 0,
  "metadata": {
    "colab": {
      "provenance": [],
      "authorship_tag": "ABX9TyOXUN82zqFBFkZ0lbMk7tws",
      "include_colab_link": true
    },
    "kernelspec": {
      "name": "python3",
      "display_name": "Python 3"
    },
    "language_info": {
      "name": "python"
    }
  },
  "cells": [
    {
      "cell_type": "markdown",
      "metadata": {
        "id": "view-in-github",
        "colab_type": "text"
      },
      "source": [
        "<a href=\"https://colab.research.google.com/github/ShaziaOngit/Hackathon/blob/main/madlib_py.ipynb\" target=\"_parent\"><img src=\"https://colab.research.google.com/assets/colab-badge.svg\" alt=\"Open In Colab\"/></a>"
      ]
    },
    {
      "cell_type": "code",
      "execution_count": null,
      "metadata": {
        "id": "7z0cMn--8cU4",
        "colab": {
          "base_uri": "https://localhost:8080/"
        },
        "outputId": "c6602c02-ecb1-41c8-800e-7a6ad6adb3e0"
      },
      "outputs": [
        {
          "output_type": "stream",
          "name": "stdout",
          "text": [
            "let's play Mad libs! fill in the blanks with your own words.\n",
            "Give me a name: Shazia\n",
            "Give me a place: Pakistan\n",
            "Give me a funny adjective: hillarious\n",
            "Give me a random object:bicycle\n",
            "Give me a animal:cat\n",
            "Give me a action verb:play\n",
            "Give me a funny exclaimation:hurrah!\n",
            "\n",
            "Here is your Mad Libs story:\n",
            "\n",
            "   I had a friend who's namedShazia who lived in Pakistan\n",
            "she found hillarious bicycle she belonged to an cat\n",
            "The cat was very friendly and started to play around.\n",
            "whoShazia couldn't help but laugh and shouted \"hurrah!!\"...\n"
          ]
        }
      ],
      "source": [
        "def mad_libs():\n",
        "    print(\"let\\'s play Mad libs! fill in the blanks with your own words.\")\n",
        "\n",
        "    name =input(\"Give me a name: \")\n",
        "    place =input(\"Give me a place: \")\n",
        "    funny_adjective = input(\"Give me a funny adjective: \")\n",
        "    random_object= input(\"Give me a random object:\")\n",
        "    animal =input(\"Give me a animal:\")\n",
        "    action_verb =input(\"Give me a action verb:\")\n",
        "    funny_exclaimation =input(\"Give me a funny exclaimation:\")\n",
        "\n",
        "    story = f'''\n",
        "   I had a friend who's named{name} who lived in {place}\n",
        "she found {funny_adjective} {random_object} she belonged to an {animal}\n",
        "The {animal} was very friendly and started to {action_verb} around.\n",
        "who{name} couldn't help but laugh and shouted \"{funny_exclaimation}!\"...'''\n",
        "\n",
        "    print(\"\\nHere is your Mad Libs story:\")\n",
        "    print(story)\n",
        "\n",
        "if __name__== \"__main__\":\n",
        "    mad_libs()"
      ]
    },
    {
      "cell_type": "code",
      "source": [],
      "metadata": {
        "id": "h56L31th_6U6"
      },
      "execution_count": null,
      "outputs": []
    }
  ]
}